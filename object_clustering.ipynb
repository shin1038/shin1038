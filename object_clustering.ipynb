{
  "nbformat": 4,
  "nbformat_minor": 0,
  "metadata": {
    "accelerator": "GPU",
    "colab": {
      "name": "object_clustering.ipynb",
      "provenance": [],
      "collapsed_sections": [],
      "include_colab_link": true
    },
    "kernelspec": {
      "name": "python3",
      "display_name": "Python 3"
    },
    "toc": {
      "base_numbering": 1,
      "nav_menu": {},
      "number_sections": true,
      "sideBar": true,
      "skip_h1_title": false,
      "title_cell": "Table of Contents",
      "title_sidebar": "Contents",
      "toc_cell": false,
      "toc_position": {},
      "toc_section_display": true,
      "toc_window_display": false
    },
    "varInspector": {
      "cols": {
        "lenName": 16,
        "lenType": 16,
        "lenVar": 40
      },
      "kernels_config": {
        "python": {
          "delete_cmd_postfix": "",
          "delete_cmd_prefix": "del ",
          "library": "var_list.py",
          "varRefreshCmd": "print(var_dic_list())"
        },
        "r": {
          "delete_cmd_postfix": ") ",
          "delete_cmd_prefix": "rm(",
          "library": "var_list.r",
          "varRefreshCmd": "cat(var_dic_list()) "
        }
      },
      "types_to_exclude": [
        "module",
        "function",
        "builtin_function_or_method",
        "instance",
        "_Feature"
      ],
      "window_display": false
    },
    "widgets": {
      "application/vnd.jupyter.widget-state+json": {
        "deefdfaeb3fc4faf8d7c7e79b3a5cb08": {
          "model_module": "@jupyter-widgets/controls",
          "model_name": "VBoxModel",
          "model_module_version": "1.5.0",
          "state": {
            "_view_name": "VBoxView",
            "_dom_classes": [
              "widget-interact"
            ],
            "_model_name": "VBoxModel",
            "_view_module": "@jupyter-widgets/controls",
            "_model_module_version": "1.5.0",
            "_view_count": null,
            "_view_module_version": "1.5.0",
            "box_style": "",
            "layout": "IPY_MODEL_2cfa5c27b225422bb16186d0dc1add99",
            "_model_module": "@jupyter-widgets/controls",
            "children": [
              "IPY_MODEL_61a2e0f3d7d04781907532c564e5afe1",
              "IPY_MODEL_02cf2fd747ec4c13a8ebe25b1d20482c"
            ]
          }
        },
        "2cfa5c27b225422bb16186d0dc1add99": {
          "model_module": "@jupyter-widgets/base",
          "model_name": "LayoutModel",
          "model_module_version": "1.2.0",
          "state": {
            "_view_name": "LayoutView",
            "grid_template_rows": null,
            "right": null,
            "justify_content": null,
            "_view_module": "@jupyter-widgets/base",
            "overflow": null,
            "_model_module_version": "1.2.0",
            "_view_count": null,
            "flex_flow": null,
            "width": null,
            "min_width": null,
            "border": null,
            "align_items": null,
            "bottom": null,
            "_model_module": "@jupyter-widgets/base",
            "top": null,
            "grid_column": null,
            "overflow_y": null,
            "overflow_x": null,
            "grid_auto_flow": null,
            "grid_area": null,
            "grid_template_columns": null,
            "flex": null,
            "_model_name": "LayoutModel",
            "justify_items": null,
            "grid_row": null,
            "max_height": null,
            "align_content": null,
            "visibility": null,
            "align_self": null,
            "height": null,
            "min_height": null,
            "padding": null,
            "grid_auto_rows": null,
            "grid_gap": null,
            "max_width": null,
            "order": null,
            "_view_module_version": "1.2.0",
            "grid_template_areas": null,
            "object_position": null,
            "object_fit": null,
            "grid_auto_columns": null,
            "margin": null,
            "display": null,
            "left": null
          }
        },
        "61a2e0f3d7d04781907532c564e5afe1": {
          "model_module": "@jupyter-widgets/controls",
          "model_name": "IntSliderModel",
          "model_module_version": "1.5.0",
          "state": {
            "_view_name": "IntSliderView",
            "style": "IPY_MODEL_5b6158185aca4aa5962dbf40ba793fa0",
            "_dom_classes": [],
            "description": "idx",
            "step": 1,
            "_model_name": "IntSliderModel",
            "orientation": "horizontal",
            "max": 10,
            "_view_module": "@jupyter-widgets/controls",
            "_model_module_version": "1.5.0",
            "value": 1,
            "_view_count": null,
            "disabled": false,
            "_view_module_version": "1.5.0",
            "min": 0,
            "continuous_update": true,
            "readout_format": "d",
            "description_tooltip": null,
            "readout": true,
            "_model_module": "@jupyter-widgets/controls",
            "layout": "IPY_MODEL_85c70f5816f042329a0bbc07530bd7e1"
          }
        },
        "02cf2fd747ec4c13a8ebe25b1d20482c": {
          "model_module": "@jupyter-widgets/output",
          "model_name": "OutputModel",
          "model_module_version": "1.0.0",
          "state": {
            "_view_name": "OutputView",
            "msg_id": "",
            "_dom_classes": [],
            "_model_name": "OutputModel",
            "outputs": [
              {
                "output_type": "stream",
                "name": "stderr",
                "text": [
                  "Clipping input data to the valid range for imshow with RGB data ([0..1] for floats or [0..255] for integers).\n"
                ]
              },
              {
                "output_type": "display_data",
                "data": {
                  "image/png": "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\n",
                  "text/plain": "<Figure size 432x288 with 2 Axes>"
                },
                "metadata": {
                  "needs_background": "light"
                }
              }
            ],
            "_view_module": "@jupyter-widgets/output",
            "_model_module_version": "1.0.0",
            "_view_count": null,
            "_view_module_version": "1.0.0",
            "layout": "IPY_MODEL_77ded52cb90444ada586a62329059a53",
            "_model_module": "@jupyter-widgets/output"
          }
        },
        "5b6158185aca4aa5962dbf40ba793fa0": {
          "model_module": "@jupyter-widgets/controls",
          "model_name": "SliderStyleModel",
          "model_module_version": "1.5.0",
          "state": {
            "_view_name": "StyleView",
            "handle_color": null,
            "_model_name": "SliderStyleModel",
            "description_width": "",
            "_view_module": "@jupyter-widgets/base",
            "_model_module_version": "1.5.0",
            "_view_count": null,
            "_view_module_version": "1.2.0",
            "_model_module": "@jupyter-widgets/controls"
          }
        },
        "85c70f5816f042329a0bbc07530bd7e1": {
          "model_module": "@jupyter-widgets/base",
          "model_name": "LayoutModel",
          "model_module_version": "1.2.0",
          "state": {
            "_view_name": "LayoutView",
            "grid_template_rows": null,
            "right": null,
            "justify_content": null,
            "_view_module": "@jupyter-widgets/base",
            "overflow": null,
            "_model_module_version": "1.2.0",
            "_view_count": null,
            "flex_flow": null,
            "width": null,
            "min_width": null,
            "border": null,
            "align_items": null,
            "bottom": null,
            "_model_module": "@jupyter-widgets/base",
            "top": null,
            "grid_column": null,
            "overflow_y": null,
            "overflow_x": null,
            "grid_auto_flow": null,
            "grid_area": null,
            "grid_template_columns": null,
            "flex": null,
            "_model_name": "LayoutModel",
            "justify_items": null,
            "grid_row": null,
            "max_height": null,
            "align_content": null,
            "visibility": null,
            "align_self": null,
            "height": null,
            "min_height": null,
            "padding": null,
            "grid_auto_rows": null,
            "grid_gap": null,
            "max_width": null,
            "order": null,
            "_view_module_version": "1.2.0",
            "grid_template_areas": null,
            "object_position": null,
            "object_fit": null,
            "grid_auto_columns": null,
            "margin": null,
            "display": null,
            "left": null
          }
        },
        "77ded52cb90444ada586a62329059a53": {
          "model_module": "@jupyter-widgets/base",
          "model_name": "LayoutModel",
          "model_module_version": "1.2.0",
          "state": {
            "_view_name": "LayoutView",
            "grid_template_rows": null,
            "right": null,
            "justify_content": null,
            "_view_module": "@jupyter-widgets/base",
            "overflow": null,
            "_model_module_version": "1.2.0",
            "_view_count": null,
            "flex_flow": null,
            "width": null,
            "min_width": null,
            "border": null,
            "align_items": null,
            "bottom": null,
            "_model_module": "@jupyter-widgets/base",
            "top": null,
            "grid_column": null,
            "overflow_y": null,
            "overflow_x": null,
            "grid_auto_flow": null,
            "grid_area": null,
            "grid_template_columns": null,
            "flex": null,
            "_model_name": "LayoutModel",
            "justify_items": null,
            "grid_row": null,
            "max_height": null,
            "align_content": null,
            "visibility": null,
            "align_self": null,
            "height": null,
            "min_height": null,
            "padding": null,
            "grid_auto_rows": null,
            "grid_gap": null,
            "max_width": null,
            "order": null,
            "_view_module_version": "1.2.0",
            "grid_template_areas": null,
            "object_position": null,
            "object_fit": null,
            "grid_auto_columns": null,
            "margin": null,
            "display": null,
            "left": null
          }
        }
      }
    }
  },
  "cells": [
    {
      "cell_type": "markdown",
      "metadata": {
        "id": "view-in-github",
        "colab_type": "text"
      },
      "source": [
        "<a href=\"https://colab.research.google.com/github/shin1038/shin1038/blob/main/object_clustering.ipynb\" target=\"_parent\"><img src=\"https://colab.research.google.com/assets/colab-badge.svg\" alt=\"Open In Colab\"/></a>"
      ]
    },
    {
      "cell_type": "markdown",
      "metadata": {
        "id": "wtd01FUf4VNu"
      },
      "source": [
        "*시작 전, 상단 메뉴 '파일' > '드라이브에 사본 저장' 을 선택하여 사본을 가지고 작업을 진행해주시기 바랍니다.*  "
      ]
    },
    {
      "cell_type": "markdown",
      "metadata": {
        "id": "1e_y7BRTlgaI"
      },
      "source": [
        "# 공지\n",
        "- csv 파일 제출: dcc2021.clustering@gmail.com (발표 자료는 다른 곳으로 제출하셔야 합니다!!!)\n",
        "- 리더 보드: https://github.com/High-East/DCC-12-Leader-Board\n",
        "- 총 제출 횟수는 ***20번*** 입니다.\n",
        "- 이메일을 보낸 시간을 기준으로, 대회 종료 시각인 ***PM 4:20*** 까지 제출하신 것까지만 인정합니다.\n",
        "- 평가 지표는 ARI를 사용하고 있습니다. [-1, 1] 사이의 값을 가지며, 1에 가까울수록 높은 성능입니다.\n"
      ]
    },
    {
      "cell_type": "markdown",
      "metadata": {
        "id": "yLn-OR6KtatH"
      },
      "source": [
        "# 기본 환경 세팅\n",
        "1. **colab 파일**을 사본으로 저장해주세요.\n",
        "2. [dataset](https://drive.google.com/file/d/1QH71L_uXYm0pRuMwubHIJgSix4y8Fi5I/view?usp=sharing)을 바로가기 추가해주세요."
      ]
    },
    {
      "cell_type": "markdown",
      "metadata": {
        "id": "TCSq7dGgEgF2"
      },
      "source": [
        "# 문제\n",
        "> Q. 2040년, 집에서도 인공지능이 도입된 로봇이 사용되기 시작했습니다. 집을 치워주는 로봇 \"깔끔이\"가 있습니다. 아쉽게도 \"깔끔이\"는 특정 물건이 어떤 것인지는 모릅니다. 하지만, A와 B가 같은 물건인지는 인식할 수 있습니다. \"깔끔이\"는 특히, 아이들이 사는 집에서 인기가 많습니다. 아이들이 어지럽힌 집을 \"깔끔이\"가 잘 치울 수 있도록 군집 알고리즘을 만들어보세요!\n"
      ]
    },
    {
      "cell_type": "markdown",
      "metadata": {
        "id": "xzj2NfRUElFk"
      },
      "source": [
        "# 데이터 설명\n",
        "훈련 데이터(Train Data): 637개의 레이블이 없는 사물 데이터  \n",
        "평가 데이터(Test Data): 훈련 데이터와 동일  \n",
        "피쳐 설명(Feature): (128, 128) 크기의 컬러 사진  \n",
        "목표: 가장 적합한 군집의 개수를 찾고, 높은 군집 정확도 얻기  \n"
      ]
    },
    {
      "cell_type": "markdown",
      "metadata": {
        "id": "w8l_7_CzsxTv"
      },
      "source": [
        "# 구글 드라이브 마운트"
      ]
    },
    {
      "cell_type": "code",
      "metadata": {
        "id": "i2tvNRRIn1Cf",
        "colab": {
          "base_uri": "https://localhost:8080/"
        },
        "outputId": "7b64aad5-d3e5-4db5-90e3-b38ad6b651d8"
      },
      "source": [
        "# 구글 드라이브를 마운트합니다.\n",
        "from google.colab import drive\n",
        "drive.mount('/content/gdrive', force_remount=True)"
      ],
      "execution_count": null,
      "outputs": [
        {
          "output_type": "stream",
          "name": "stdout",
          "text": [
            "Mounted at /content/gdrive\n"
          ]
        }
      ]
    },
    {
      "cell_type": "code",
      "metadata": {
        "id": "02H2I5OpSBuS",
        "colab": {
          "base_uri": "https://localhost:8080/"
        },
        "outputId": "715dda4f-7a8e-4b51-d378-5bb5873100fa"
      },
      "source": [
        "# 폴더 이동\n",
        "import os\n",
        "ROOT = '/content/gdrive/MyDrive'  # 변경하지 마세요. 단, MyDrive가 오류난다면, My\\ Drive로 적으세요.\n",
        "DIR = 'Colab Notebooks'  # 데이터가 있는 위치를 적으세요.\n",
        "\n",
        "PATH = os.path.join(ROOT, DIR)\n",
        "os.chdir(PATH)\n",
        "print(f\"현재 경로: {PATH}\")"
      ],
      "execution_count": null,
      "outputs": [
        {
          "output_type": "stream",
          "name": "stdout",
          "text": [
            "현재 경로: /content/gdrive/MyDrive/Colab Notebooks\n"
          ]
        }
      ]
    },
    {
      "cell_type": "code",
      "metadata": {
        "colab": {
          "base_uri": "https://localhost:8080/"
        },
        "id": "OSJybjB4WT-Y",
        "outputId": "4c4aa31f-5539-445e-c265-9912c730e378"
      },
      "source": [
        "# 할당 받은 GPU 확인\n",
        "!nvidia-smi"
      ],
      "execution_count": null,
      "outputs": [
        {
          "output_type": "stream",
          "name": "stdout",
          "text": [
            "Sat Nov  6 04:37:10 2021       \n",
            "+-----------------------------------------------------------------------------+\n",
            "| NVIDIA-SMI 495.44       Driver Version: 460.32.03    CUDA Version: 11.2     |\n",
            "|-------------------------------+----------------------+----------------------+\n",
            "| GPU  Name        Persistence-M| Bus-Id        Disp.A | Volatile Uncorr. ECC |\n",
            "| Fan  Temp  Perf  Pwr:Usage/Cap|         Memory-Usage | GPU-Util  Compute M. |\n",
            "|                               |                      |               MIG M. |\n",
            "|===============================+======================+======================|\n",
            "|   0  Tesla K80           Off  | 00000000:00:04.0 Off |                    0 |\n",
            "| N/A   35C    P8    28W / 149W |      0MiB / 11441MiB |      0%      Default |\n",
            "|                               |                      |                  N/A |\n",
            "+-------------------------------+----------------------+----------------------+\n",
            "                                                                               \n",
            "+-----------------------------------------------------------------------------+\n",
            "| Processes:                                                                  |\n",
            "|  GPU   GI   CI        PID   Type   Process name                  GPU Memory |\n",
            "|        ID   ID                                                   Usage      |\n",
            "|=============================================================================|\n",
            "|  No running processes found                                                 |\n",
            "+-----------------------------------------------------------------------------+\n"
          ]
        }
      ]
    },
    {
      "cell_type": "markdown",
      "metadata": {
        "id": "alPRbetAZ2Y5"
      },
      "source": [
        "# 패키지 임포트"
      ]
    },
    {
      "cell_type": "code",
      "metadata": {
        "ExecuteTime": {
          "end_time": "2020-09-24T13:02:15.110506Z",
          "start_time": "2020-09-24T13:02:15.038366Z"
        },
        "colab": {
          "base_uri": "https://localhost:8080/"
        },
        "id": "y4L2JTQvZ2Y6",
        "outputId": "481a6345-2684-4c70-9901-037542df2bee"
      },
      "source": [
        "import numpy as np\n",
        "import pandas as pd\n",
        "import tensorflow as tf\n",
        "from tensorflow.keras import models, layers, activations\n",
        "from tensorflow.keras import optimizers\n",
        "from sklearn.cluster import KMeans\n",
        "\n",
        "import cv2\n",
        "import matplotlib.pyplot as plt\n",
        "from scipy.spatial.distance import cdist\n",
        "import ipywidgets as widgets\n",
        "from ipywidgets import interact\n",
        "\n",
        "print(f\"tensorflow version: {tf.__version__}\")\n",
        "print(f\"keras version: {tf.keras.__version__}\")"
      ],
      "execution_count": null,
      "outputs": [
        {
          "output_type": "stream",
          "name": "stdout",
          "text": [
            "tensorflow version: 2.6.0\n",
            "keras version: 2.6.0\n"
          ]
        }
      ]
    },
    {
      "cell_type": "markdown",
      "metadata": {
        "id": "BtODoU1zZ2Y7"
      },
      "source": [
        "# 커스텀 함수 정의"
      ]
    },
    {
      "cell_type": "code",
      "metadata": {
        "ExecuteTime": {
          "end_time": "2020-09-24T13:03:22.326964Z",
          "start_time": "2020-09-24T13:03:22.320821Z"
        },
        "id": "0HwpuGqAZ2Y7"
      },
      "source": [
        "# Visualization function\n",
        "def show_img(dataset, predict, idx):\n",
        "    fig = plt.figure()\n",
        "    ax1 = fig.add_subplot(1, 2, 1)\n",
        "    ax1.imshow(cv2.cvtColor(dataset[idx], cv2.COLOR_BGR2RGB))\n",
        "    ax1.set_title(\"Raw image\")\n",
        "    ax2 = fig.add_subplot(1, 2, 2)\n",
        "    ax2.imshow(cv2.cvtColor(predict[idx], cv2.COLOR_BGR2RGB))\n",
        "    ax2.set_title(\"Reconstructed image\")\n",
        "    plt.show()\n",
        "\n",
        "# Elbow method\n",
        "def elbow_method(X, a, b):\n",
        "    sse = []\n",
        "    for i in range(a, b + 1):\n",
        "        km = KMeans(n_clusters=i, init='k-means++', random_state=1207)\n",
        "        km.fit(X)\n",
        "        sse.append(km.inertia_)\n",
        "    plt.figure(figsize=(8,6))\n",
        "    plt.plot(range(a, b + 1), sse, marker='o', c='black')\n",
        "    plt.xlabel(\"Number of clusters\", fontsize=12)\n",
        "    plt.ylabel(\"SSE\", fontsize=12)\n",
        "    plt.title(\"Elbow method\", fontsize=15)\n",
        "    plt.grid(linestyle='--')\n",
        "    plt.show()"
      ],
      "execution_count": null,
      "outputs": []
    },
    {
      "cell_type": "markdown",
      "metadata": {
        "id": "dCIweDyBst3X"
      },
      "source": [
        "# 데이터 로드"
      ]
    },
    {
      "cell_type": "code",
      "metadata": {
        "colab": {
          "base_uri": "https://localhost:8080/"
        },
        "id": "ql8-57JAaVVs",
        "outputId": "873fd4a3-d40c-4e71-e478-d25adc9877f1"
      },
      "source": [
        "# 데이터 로드\n",
        "path = \"dataset.npy\"\n",
        "dataset = np.load(path)\n",
        "dataset = np.float32(dataset / 255)  # 데이터 정규화\n",
        "\n",
        "# 데이터 shape 확인\n",
        "print(f\"dataset shape: {dataset.shape}\")"
      ],
      "execution_count": null,
      "outputs": [
        {
          "output_type": "stream",
          "name": "stdout",
          "text": [
            "dataset shape: (637, 128, 128, 3)\n"
          ]
        }
      ]
    },
    {
      "cell_type": "code",
      "metadata": {
        "ExecuteTime": {
          "end_time": "2020-09-24T13:02:23.706891Z",
          "start_time": "2020-09-24T13:02:23.560367Z"
        },
        "colab": {
          "base_uri": "https://localhost:8080/",
          "height": 248
        },
        "id": "76ASrh38Z2Y8",
        "outputId": "dab132a4-e0db-430a-9f30-5e0c2e15bd93"
      },
      "source": [
        "# 이미지 확인\n",
        "idx = 2\n",
        "plt.imshow(cv2.cvtColor(dataset[idx], cv2.COLOR_BGR2RGB))\n",
        "plt.tick_params(left=False, labelleft=False, bottom=False, labelbottom=False)\n",
        "plt.show()"
      ],
      "execution_count": null,
      "outputs": [
        {
          "output_type": "display_data",
          "data": {
            "image/png": "[encoded data removed]",
            "text/plain": [
              "<Figure size 432x288 with 1 Axes>"
            ]
          },
          "metadata": {}
        }
      ]
    },
    {
      "cell_type": "code",
      "metadata": {
        "colab": {
          "base_uri": "https://localhost:8080/",
          "height": 168
        },
        "id": "wVwGkCztiZpr",
        "outputId": "687df385-50ab-4c81-d46a-5e0f30ed6f5d"
      },
      "source": [
        ""
      ],
      "execution_count": null,
      "outputs": [
        {
          "output_type": "error",
          "ename": "AttributeError",
          "evalue": "ignored",
          "traceback": [
            "\u001b[0;31m---------------------------------------------------------------------------\u001b[0m",
            "\u001b[0;31mAttributeError\u001b[0m                            Traceback (most recent call last)",
            "\u001b[0;32m<ipython-input-7-1deb91064d17>\u001b[0m in \u001b[0;36m<module>\u001b[0;34m()\u001b[0m\n\u001b[0;32m----> 1\u001b[0;31m \u001b[0mdataset\u001b[0m\u001b[0;34m.\u001b[0m\u001b[0msample\u001b[0m\u001b[0;34m(\u001b[0m\u001b[0;36m5\u001b[0m\u001b[0;34m)\u001b[0m\u001b[0;34m\u001b[0m\u001b[0;34m\u001b[0m\u001b[0m\n\u001b[0m",
            "\u001b[0;31mAttributeError\u001b[0m: 'numpy.ndarray' object has no attribute 'sample'"
          ]
        }
      ]
    },
    {
      "cell_type": "markdown",
      "metadata": {
        "id": "ZGEuRXsDbGzT"
      },
      "source": [
        "# 차원 축소\n",
        "- PCA와 같은 다른 차원 축소 기법을 사용해도 괜찮습니다."
      ]
    },
    {
      "cell_type": "code",
      "metadata": {
        "id": "3L013pofxxLA"
      },
      "source": [
        ""
      ],
      "execution_count": null,
      "outputs": []
    },
    {
      "cell_type": "markdown",
      "metadata": {
        "id": "jyow1xVZbJB1"
      },
      "source": [
        "## 오토인코더"
      ]
    },
    {
      "cell_type": "code",
      "metadata": {
        "colab": {
          "base_uri": "https://localhost:8080/"
        },
        "id": "6CGfM7TGbOi_",
        "outputId": "d88530b0-f8c1-42a8-cd88-76d1a4825ef6"
      },
      "source": [
        "# 인코더\n",
        "encoder = models.Sequential([\n",
        "          layers.InputLayer(input_shape=(128, 128, 3)),\n",
        "          layers.Conv2D(filters=16, kernel_size=3, strides=2, padding=\"same\"),\n",
        "          layers.BatchNormalization(),\n",
        "          layers.ReLU(),\n",
        "           layers.Conv2D(filters=32, kernel_size=3, strides=2, padding=\"same\"),\n",
        "          layers.BatchNormalization(),\n",
        "          layers.ReLU(),\n",
        "            layers.Conv2D(filters=64, kernel_size=3, strides=2, padding=\"same\"),\n",
        "          layers.BatchNormalization(),\n",
        "          layers.ReLU(),\n",
        "          # layers.Flatten(),\n",
        "          # layers.Dense(units=128, activation='relu')\n",
        "          ],\n",
        "          name='Encoder')\n",
        "\n",
        "# 모델 구조 시각화\n",
        "encoder.summary()"
      ],
      "execution_count": null,
      "outputs": [
        {
          "output_type": "stream",
          "name": "stdout",
          "text": [
            "Model: \"Encoder\"\n",
            "_________________________________________________________________\n",
            "Layer (type)                 Output Shape              Param #   \n",
            "=================================================================\n",
            "conv2d_10 (Conv2D)           (None, 64, 64, 16)        448       \n",
            "_________________________________________________________________\n",
            "batch_normalization_13 (Batc (None, 64, 64, 16)        64        \n",
            "_________________________________________________________________\n",
            "re_lu_13 (ReLU)              (None, 64, 64, 16)        0         \n",
            "_________________________________________________________________\n",
            "conv2d_11 (Conv2D)           (None, 32, 32, 32)        4640      \n",
            "_________________________________________________________________\n",
            "batch_normalization_14 (Batc (None, 32, 32, 32)        128       \n",
            "_________________________________________________________________\n",
            "re_lu_14 (ReLU)              (None, 32, 32, 32)        0         \n",
            "_________________________________________________________________\n",
            "conv2d_12 (Conv2D)           (None, 16, 16, 64)        18496     \n",
            "_________________________________________________________________\n",
            "batch_normalization_15 (Batc (None, 16, 16, 64)        256       \n",
            "_________________________________________________________________\n",
            "re_lu_15 (ReLU)              (None, 16, 16, 64)        0         \n",
            "=================================================================\n",
            "Total params: 24,032\n",
            "Trainable params: 23,808\n",
            "Non-trainable params: 224\n",
            "_________________________________________________________________\n"
          ]
        }
      ]
    },
    {
      "cell_type": "code",
      "metadata": {
        "ExecuteTime": {
          "end_time": "2020-09-24T12:59:20.625388Z",
          "start_time": "2020-09-24T12:59:20.538373Z"
        },
        "colab": {
          "base_uri": "https://localhost:8080/"
        },
        "id": "-dikyy3lZ2Y_",
        "outputId": "184eb4c7-8b92-4e56-d5c6-dfcb3abc28b8"
      },
      "source": [
        "# 디코더\n",
        "decoder = models.Sequential([\n",
        "          layers.InputLayer(input_shape=(16,16,64)),  # 인코더의 마지막 output shape을 입력하세요.\n",
        "          # layers.Dense(units=512, activation='relu'),\n",
        "          # layers.Reshape(target_shape=(8, 8, 8)),\n",
        "          layers.Conv2DTranspose(filters=64, kernel_size=3, strides=2, padding=\"same\"),\n",
        "          layers.BatchNormalization(),\n",
        "          layers.ReLU(),\n",
        "          layers.Conv2DTranspose(filters=32, kernel_size=3, strides=2, padding=\"same\"),\n",
        "          layers.BatchNormalization(),\n",
        "          layers.ReLU(),\n",
        "            layers.Conv2DTranspose(filters=16, kernel_size=3, strides=2, padding=\"same\"),\n",
        "          layers.BatchNormalization(),\n",
        "          layers.ReLU(),\n",
        "          layers.Conv2D(filters=3, kernel_size=1, strides=1, activation='tanh'),\n",
        "         ],\n",
        "          name='Decoder')\n",
        "\n",
        "# 모델 구조 시각화\n",
        "decoder.summary()"
      ],
      "execution_count": null,
      "outputs": [
        {
          "output_type": "stream",
          "name": "stdout",
          "text": [
            "Model: \"Decoder\"\n",
            "_________________________________________________________________\n",
            "Layer (type)                 Output Shape              Param #   \n",
            "=================================================================\n",
            "conv2d_transpose_5 (Conv2DTr (None, 32, 32, 64)        36928     \n",
            "_________________________________________________________________\n",
            "batch_normalization_16 (Batc (None, 32, 32, 64)        256       \n",
            "_________________________________________________________________\n",
            "re_lu_16 (ReLU)              (None, 32, 32, 64)        0         \n",
            "_________________________________________________________________\n",
            "conv2d_transpose_6 (Conv2DTr (None, 64, 64, 32)        18464     \n",
            "_________________________________________________________________\n",
            "batch_normalization_17 (Batc (None, 64, 64, 32)        128       \n",
            "_________________________________________________________________\n",
            "re_lu_17 (ReLU)              (None, 64, 64, 32)        0         \n",
            "_________________________________________________________________\n",
            "conv2d_transpose_7 (Conv2DTr (None, 128, 128, 16)      4624      \n",
            "_________________________________________________________________\n",
            "batch_normalization_18 (Batc (None, 128, 128, 16)      64        \n",
            "_________________________________________________________________\n",
            "re_lu_18 (ReLU)              (None, 128, 128, 16)      0         \n",
            "_________________________________________________________________\n",
            "conv2d_13 (Conv2D)           (None, 128, 128, 3)       51        \n",
            "=================================================================\n",
            "Total params: 60,515\n",
            "Trainable params: 60,291\n",
            "Non-trainable params: 224\n",
            "_________________________________________________________________\n"
          ]
        }
      ]
    },
    {
      "cell_type": "code",
      "metadata": {
        "ExecuteTime": {
          "end_time": "2020-09-24T12:59:24.178525Z",
          "start_time": "2020-09-24T12:59:24.131861Z"
        },
        "id": "vO556_UtZ2Y_"
      },
      "source": [
        "# 오토인코더: 인코더 + 디코더 구조\n",
        "autoencoder = models.Sequential([\n",
        "              layers.InputLayer(input_shape=(128, 128, 3), name='Input'),\n",
        "              encoder,  # 인코더\n",
        "              decoder])  # 디코더"
      ],
      "execution_count": null,
      "outputs": []
    },
    {
      "cell_type": "markdown",
      "metadata": {
        "id": "tMOwTyRmZ2ZA"
      },
      "source": [
        "## 학습\n",
        "- Optimizer, loss 및 모든 하이퍼파라미터를 자유롭게 조정하며 실험해보세요.\n",
        "- Optimizer 참고 자료 1 : https://www.tensorflow.org/api_docs/python/tf/keras/optimizers\n",
        "- Optimizer 참고 자료 2: https://keras.io/ko/optimizers/\n",
        "- Loss 참고자료 1: https://www.tensorflow.org/api_docs/python/tf/keras/losses\n",
        "- Loss 참고자료 2: https://keras.io/ko/losses/"
      ]
    },
    {
      "cell_type": "code",
      "metadata": {
        "ExecuteTime": {
          "end_time": "2020-09-24T13:03:08.919407Z",
          "start_time": "2020-09-24T13:02:30.562371Z"
        },
        "colab": {
          "base_uri": "https://localhost:8080/"
        },
        "id": "44WPXmPjZ2ZA",
        "outputId": "fb36a77b-076b-4489-f256-4bcafee05b80"
      },
      "source": [
        "# 하이퍼파라미터 설정\n",
        "lr = 1e-03\n",
        "optimizer = optimizers.Adam(learning_rate=lr)\n",
        "loss = 'mse'\n",
        "epochs = 10\n",
        "batch_size = 16\n",
        "\n",
        "# 모델 컴파일(=optimizer, loss 세팅)\n",
        "autoencoder.compile(optimizer=optimizer,\n",
        "                    loss=loss)\n",
        "\n",
        "# 학습\n",
        "autoencoder.fit(x=dataset, y=dataset, epochs=epochs, batch_size=batch_size)"
      ],
      "execution_count": null,
      "outputs": [
        {
          "output_type": "stream",
          "name": "stdout",
          "text": [
            "Epoch 1/10\n",
            "40/40 [==============================] - 2s 27ms/step - loss: 0.1084\n",
            "Epoch 2/10\n",
            "40/40 [==============================] - 1s 25ms/step - loss: 0.0459\n",
            "Epoch 3/10\n",
            "40/40 [==============================] - 1s 26ms/step - loss: 0.0210\n",
            "Epoch 4/10\n",
            "40/40 [==============================] - 1s 25ms/step - loss: 0.0134\n",
            "Epoch 5/10\n",
            "40/40 [==============================] - 1s 26ms/step - loss: 0.0118\n",
            "Epoch 6/10\n",
            "40/40 [==============================] - 1s 25ms/step - loss: 0.0092\n",
            "Epoch 7/10\n",
            "40/40 [==============================] - 1s 25ms/step - loss: 0.0079\n",
            "Epoch 8/10\n",
            "40/40 [==============================] - 1s 25ms/step - loss: 0.0071\n",
            "Epoch 9/10\n",
            "40/40 [==============================] - 1s 25ms/step - loss: 0.0064\n",
            "Epoch 10/10\n",
            "40/40 [==============================] - 1s 26ms/step - loss: 0.0058\n"
          ]
        },
        {
          "output_type": "execute_result",
          "data": {
            "text/plain": [
              "<keras.callbacks.History at 0x7f83d7c473d0>"
            ]
          },
          "metadata": {},
          "execution_count": 25
        }
      ]
    },
    {
      "cell_type": "markdown",
      "metadata": {
        "id": "y-KYqC8PZ2ZA"
      },
      "source": [
        "## 복원된 이미지 확인"
      ]
    },
    {
      "cell_type": "code",
      "metadata": {
        "ExecuteTime": {
          "end_time": "2020-09-24T13:03:30.029523Z",
          "start_time": "2020-09-24T13:03:29.741704Z"
        },
        "colab": {
          "base_uri": "https://localhost:8080/",
          "height": 302,
          "referenced_widgets": [
            "deefdfaeb3fc4faf8d7c7e79b3a5cb08",
            "2cfa5c27b225422bb16186d0dc1add99",
            "61a2e0f3d7d04781907532c564e5afe1",
            "02cf2fd747ec4c13a8ebe25b1d20482c",
            "5b6158185aca4aa5962dbf40ba793fa0",
            "85c70f5816f042329a0bbc07530bd7e1",
            "77ded52cb90444ada586a62329059a53"
          ]
        },
        "id": "-nSeW5i2Z2ZA",
        "outputId": "877ce1ff-0f61-4bc0-bf34-3816fe0fabb3"
      },
      "source": [
        "# 오토인코더를 통해 얻은 이미지(=복원된 이미지)\n",
        "max_len = 10\n",
        "predict = autoencoder(dataset[:max_len])\n",
        "\n",
        "# 시각화\n",
        "slider = widgets.IntSlider(min=0, max=max_len, step=1, value=0)\n",
        "interact(lambda idx: show_img(dataset[:max_len], predict.numpy(), idx), idx=slider)"
      ],
      "execution_count": null,
      "outputs": [
        {
          "output_type": "display_data",
          "data": {
            "application/vnd.jupyter.widget-view+json": {
              "model_id": "deefdfaeb3fc4faf8d7c7e79b3a5cb08",
              "version_minor": 0,
              "version_major": 2
            },
            "text/plain": [
              "interactive(children=(IntSlider(value=0, description='idx', max=10), Output()), _dom_classes=('widget-interact…"
            ]
          },
          "metadata": {}
        },
        {
          "output_type": "execute_result",
          "data": {
            "text/plain": [
              "<function __main__.<lambda>>"
            ]
          },
          "metadata": {},
          "execution_count": 26
        }
      ]
    },
    {
      "cell_type": "markdown",
      "metadata": {
        "id": "YAyP-F1PZ2ZB"
      },
      "source": [
        "# 클러스터링(K-means)\n",
        "- 클러스터링 기법 변경하셔도 상관 없습니다."
      ]
    },
    {
      "cell_type": "markdown",
      "metadata": {
        "id": "9IpljukZZ2ZB"
      },
      "source": [
        "## Latent vector 생성"
      ]
    },
    {
      "cell_type": "code",
      "metadata": {
        "id": "WstiS-rPZ2ZB"
      },
      "source": [
        "# Extract latent vector(mini-batch version, OOM 방지)\n",
        "batch_size = 64\n",
        "latent_vec = []\n",
        "num_batch = len(dataset) // batch_size\n",
        "\n",
        "for i in range(num_batch + 1):\n",
        "    batch_set = dataset[i * batch_size:(i + 1) * batch_size]\n",
        "    latent_vec.append(encoder(batch_set).numpy())\n",
        "\n",
        "latent_vec = np.concatenate(latent_vec, axis=0)\n",
        "\n",
        "if np.ndim(latent_vec) != 2:\n",
        "    latent_vec = np.reshape(latent_vec, [len(dataset), -1])"
      ],
      "execution_count": null,
      "outputs": []
    },
    {
      "cell_type": "markdown",
      "metadata": {
        "id": "Q9mRkE06Z2ZB"
      },
      "source": [
        "## Cluster 개수 결정"
      ]
    },
    {
      "cell_type": "code",
      "metadata": {
        "id": "2h3fIC7gZ2ZB",
        "colab": {
          "base_uri": "https://localhost:8080/",
          "height": 459
        },
        "outputId": "f520d88e-d07d-44be-867b-a267b8917e0e"
      },
      "source": [
        "# Elbow method를 통해서 최적의 cluster 개수(K)를 찾아보세요.\n",
        "# K는 15이하입니다.\n",
        "# latent_vec의 크기가 클수록 런타임이 오래 걸리니 참고하세요.\n",
        "start = 1\n",
        "end = 15\n",
        "elbow_method(latent_vec, start, end)"
      ],
      "execution_count": null,
      "outputs": [
        {
          "output_type": "error",
          "ename": "KeyboardInterrupt",
          "evalue": "ignored",
          "traceback": [
            "\u001b[0;31m---------------------------------------------------------------------------\u001b[0m",
            "\u001b[0;31mKeyboardInterrupt\u001b[0m                         Traceback (most recent call last)",
            "\u001b[0;32m<ipython-input-28-0d6fea7e88e5>\u001b[0m in \u001b[0;36m<module>\u001b[0;34m()\u001b[0m\n\u001b[1;32m      4\u001b[0m \u001b[0mstart\u001b[0m \u001b[0;34m=\u001b[0m \u001b[0;36m1\u001b[0m\u001b[0;34m\u001b[0m\u001b[0;34m\u001b[0m\u001b[0m\n\u001b[1;32m      5\u001b[0m \u001b[0mend\u001b[0m \u001b[0;34m=\u001b[0m \u001b[0;36m15\u001b[0m\u001b[0;34m\u001b[0m\u001b[0;34m\u001b[0m\u001b[0m\n\u001b[0;32m----> 6\u001b[0;31m \u001b[0melbow_method\u001b[0m\u001b[0;34m(\u001b[0m\u001b[0mlatent_vec\u001b[0m\u001b[0;34m,\u001b[0m \u001b[0mstart\u001b[0m\u001b[0;34m,\u001b[0m \u001b[0mend\u001b[0m\u001b[0;34m)\u001b[0m\u001b[0;34m\u001b[0m\u001b[0;34m\u001b[0m\u001b[0m\n\u001b[0m",
            "\u001b[0;32m<ipython-input-5-cf6dcead7811>\u001b[0m in \u001b[0;36melbow_method\u001b[0;34m(X, a, b)\u001b[0m\n\u001b[1;32m     15\u001b[0m     \u001b[0;32mfor\u001b[0m \u001b[0mi\u001b[0m \u001b[0;32min\u001b[0m \u001b[0mrange\u001b[0m\u001b[0;34m(\u001b[0m\u001b[0ma\u001b[0m\u001b[0;34m,\u001b[0m \u001b[0mb\u001b[0m \u001b[0;34m+\u001b[0m \u001b[0;36m1\u001b[0m\u001b[0;34m)\u001b[0m\u001b[0;34m:\u001b[0m\u001b[0;34m\u001b[0m\u001b[0;34m\u001b[0m\u001b[0m\n\u001b[1;32m     16\u001b[0m         \u001b[0mkm\u001b[0m \u001b[0;34m=\u001b[0m \u001b[0mKMeans\u001b[0m\u001b[0;34m(\u001b[0m\u001b[0mn_clusters\u001b[0m\u001b[0;34m=\u001b[0m\u001b[0mi\u001b[0m\u001b[0;34m,\u001b[0m \u001b[0minit\u001b[0m\u001b[0;34m=\u001b[0m\u001b[0;34m'k-means++'\u001b[0m\u001b[0;34m,\u001b[0m \u001b[0mrandom_state\u001b[0m\u001b[0;34m=\u001b[0m\u001b[0;36m1207\u001b[0m\u001b[0;34m)\u001b[0m\u001b[0;34m\u001b[0m\u001b[0;34m\u001b[0m\u001b[0m\n\u001b[0;32m---> 17\u001b[0;31m         \u001b[0mkm\u001b[0m\u001b[0;34m.\u001b[0m\u001b[0mfit\u001b[0m\u001b[0;34m(\u001b[0m\u001b[0mX\u001b[0m\u001b[0;34m)\u001b[0m\u001b[0;34m\u001b[0m\u001b[0;34m\u001b[0m\u001b[0m\n\u001b[0m\u001b[1;32m     18\u001b[0m         \u001b[0msse\u001b[0m\u001b[0;34m.\u001b[0m\u001b[0mappend\u001b[0m\u001b[0;34m(\u001b[0m\u001b[0mkm\u001b[0m\u001b[0;34m.\u001b[0m\u001b[0minertia_\u001b[0m\u001b[0;34m)\u001b[0m\u001b[0;34m\u001b[0m\u001b[0;34m\u001b[0m\u001b[0m\n\u001b[1;32m     19\u001b[0m     \u001b[0mplt\u001b[0m\u001b[0;34m.\u001b[0m\u001b[0mfigure\u001b[0m\u001b[0;34m(\u001b[0m\u001b[0mfigsize\u001b[0m\u001b[0;34m=\u001b[0m\u001b[0;34m(\u001b[0m\u001b[0;36m8\u001b[0m\u001b[0;34m,\u001b[0m\u001b[0;36m6\u001b[0m\u001b[0;34m)\u001b[0m\u001b[0;34m)\u001b[0m\u001b[0;34m\u001b[0m\u001b[0;34m\u001b[0m\u001b[0m\n",
            "\u001b[0;32m/usr/local/lib/python3.7/dist-packages/sklearn/cluster/_kmeans.py\u001b[0m in \u001b[0;36mfit\u001b[0;34m(self, X, y, sample_weight)\u001b[0m\n\u001b[1;32m    935\u001b[0m                     \u001b[0mmax_iter\u001b[0m\u001b[0;34m=\u001b[0m\u001b[0mself\u001b[0m\u001b[0;34m.\u001b[0m\u001b[0mmax_iter\u001b[0m\u001b[0;34m,\u001b[0m \u001b[0minit\u001b[0m\u001b[0;34m=\u001b[0m\u001b[0minit\u001b[0m\u001b[0;34m,\u001b[0m \u001b[0mverbose\u001b[0m\u001b[0;34m=\u001b[0m\u001b[0mself\u001b[0m\u001b[0;34m.\u001b[0m\u001b[0mverbose\u001b[0m\u001b[0;34m,\u001b[0m\u001b[0;34m\u001b[0m\u001b[0;34m\u001b[0m\u001b[0m\n\u001b[1;32m    936\u001b[0m                     \u001b[0mprecompute_distances\u001b[0m\u001b[0;34m=\u001b[0m\u001b[0mprecompute_distances\u001b[0m\u001b[0;34m,\u001b[0m \u001b[0mtol\u001b[0m\u001b[0;34m=\u001b[0m\u001b[0mtol\u001b[0m\u001b[0;34m,\u001b[0m\u001b[0;34m\u001b[0m\u001b[0;34m\u001b[0m\u001b[0m\n\u001b[0;32m--> 937\u001b[0;31m                     x_squared_norms=x_squared_norms, random_state=seed)\n\u001b[0m\u001b[1;32m    938\u001b[0m                 \u001b[0;31m# determine if these results are the best so far\u001b[0m\u001b[0;34m\u001b[0m\u001b[0;34m\u001b[0m\u001b[0;34m\u001b[0m\u001b[0m\n\u001b[1;32m    939\u001b[0m                 \u001b[0;32mif\u001b[0m \u001b[0mbest_inertia\u001b[0m \u001b[0;32mis\u001b[0m \u001b[0;32mNone\u001b[0m \u001b[0;32mor\u001b[0m \u001b[0minertia\u001b[0m \u001b[0;34m<\u001b[0m \u001b[0mbest_inertia\u001b[0m\u001b[0;34m:\u001b[0m\u001b[0;34m\u001b[0m\u001b[0;34m\u001b[0m\u001b[0m\n",
            "\u001b[0;32m/usr/local/lib/python3.7/dist-packages/sklearn/cluster/_kmeans.py\u001b[0m in \u001b[0;36m_kmeans_single_elkan\u001b[0;34m(X, sample_weight, n_clusters, max_iter, init, verbose, x_squared_norms, random_state, tol, precompute_distances)\u001b[0m\n\u001b[1;32m    320\u001b[0m     centers, labels, n_iter = k_means_elkan(X, checked_sample_weight,\n\u001b[1;32m    321\u001b[0m                                             \u001b[0mn_clusters\u001b[0m\u001b[0;34m,\u001b[0m \u001b[0mcenters\u001b[0m\u001b[0;34m,\u001b[0m \u001b[0mtol\u001b[0m\u001b[0;34m=\u001b[0m\u001b[0mtol\u001b[0m\u001b[0;34m,\u001b[0m\u001b[0;34m\u001b[0m\u001b[0;34m\u001b[0m\u001b[0m\n\u001b[0;32m--> 322\u001b[0;31m                                             max_iter=max_iter, verbose=verbose)\n\u001b[0m\u001b[1;32m    323\u001b[0m     \u001b[0;32mif\u001b[0m \u001b[0msample_weight\u001b[0m \u001b[0;32mis\u001b[0m \u001b[0;32mNone\u001b[0m\u001b[0;34m:\u001b[0m\u001b[0;34m\u001b[0m\u001b[0;34m\u001b[0m\u001b[0m\n\u001b[1;32m    324\u001b[0m         \u001b[0minertia\u001b[0m \u001b[0;34m=\u001b[0m \u001b[0mnp\u001b[0m\u001b[0;34m.\u001b[0m\u001b[0msum\u001b[0m\u001b[0;34m(\u001b[0m\u001b[0;34m(\u001b[0m\u001b[0mX\u001b[0m \u001b[0;34m-\u001b[0m \u001b[0mcenters\u001b[0m\u001b[0;34m[\u001b[0m\u001b[0mlabels\u001b[0m\u001b[0;34m]\u001b[0m\u001b[0;34m)\u001b[0m \u001b[0;34m**\u001b[0m \u001b[0;36m2\u001b[0m\u001b[0;34m,\u001b[0m \u001b[0mdtype\u001b[0m\u001b[0;34m=\u001b[0m\u001b[0mnp\u001b[0m\u001b[0;34m.\u001b[0m\u001b[0mfloat64\u001b[0m\u001b[0;34m)\u001b[0m\u001b[0;34m\u001b[0m\u001b[0;34m\u001b[0m\u001b[0m\n",
            "\u001b[0;32msklearn/cluster/_k_means_elkan.pyx\u001b[0m in \u001b[0;36msklearn.cluster._k_means_elkan.k_means_elkan\u001b[0;34m()\u001b[0m\n",
            "\u001b[0;32m<__array_function__ internals>\u001b[0m in \u001b[0;36msum\u001b[0;34m(*args, **kwargs)\u001b[0m\n",
            "\u001b[0;31mKeyboardInterrupt\u001b[0m: "
          ]
        }
      ]
    },
    {
      "cell_type": "code",
      "metadata": {
        "id": "IzuzEizBZ2ZC"
      },
      "source": [
        "# K-Means clustering\n",
        "n_clusters = 5  # elbow method 등을 이용해서 K를 결정해보세요.\n",
        "kmeans = KMeans(n_clusters=n_clusters, init='k-means++', random_state=1207).fit(latent_vec)\n",
        "y_pred = kmeans.labels_"
      ],
      "execution_count": null,
      "outputs": []
    },
    {
      "cell_type": "markdown",
      "metadata": {
        "id": "nIRghUQOZ2ZC"
      },
      "source": [
        "# 제출 파일(csv) 생성"
      ]
    },
    {
      "cell_type": "code",
      "metadata": {
        "id": "gDQxW901Z2ZC"
      },
      "source": [
        "# 저장할 폴더 만들기\n",
        "SAVE_PATH = os.path.join(PATH, \"output\")\n",
        "if not os.path.exists(SAVE_PATH):\n",
        "  os.mkdir(SAVE_PATH)\n",
        "else:\n",
        "  pass"
      ],
      "execution_count": null,
      "outputs": []
    },
    {
      "cell_type": "code",
      "metadata": {
        "ExecuteTime": {
          "end_time": "2020-09-24T12:58:55.556369Z",
          "start_time": "2020-09-24T12:58:55.548658Z"
        },
        "id": "aYujxRXCZ2ZC"
      },
      "source": [
        "# 제출 파일 만들기\n",
        "team = \"crystals\"  # 반드시 자신이 속한 팀명을 적어주세요.\n",
        "suffix = 1  # 자신이 제출한 파일을 알아볼 수 있는 접미사를 적어주세요. 이전에 제출한 파일과 동일하면 안됩니다.\n",
        "\n",
        "# 이 밑은 수정하지 마세요.\n",
        "# timestamp = datetime.today().strftime(\"%Y%m%d%H%M%S\")\n",
        "sub = pd.DataFrame(y_pred, columns=[\"y_pred\"])\n",
        "sub.to_csv(os.path.join(SAVE_PATH, f\"./{team}_{suffix}.csv\"), index=False)"
      ],
      "execution_count": null,
      "outputs": []
    },
    {
      "cell_type": "markdown",
      "metadata": {
        "id": "yOCzjKfivH4b"
      },
      "source": [
        "# 제출\n",
        "1. output 폴더 안에 있는 제출할 csv을 다운받아 주세요.\n",
        "2. dcc2021.clustering@gmail.com로 csv파일을 첨부해서 보내주세요. (제목과 내용은 상관 없음)\n",
        "3. 1-2분 후에 [리더보드](https://github.com/High-East/DCC-12-Leader-Board)에서 확인해주세요.\n"
      ]
    },
    {
      "cell_type": "markdown",
      "metadata": {
        "id": "TMes1k2HwQJx"
      },
      "source": [
        "# 재공지\n",
        "- 총 제출 횟수는 ***20번*** 입니다.\n",
        "- 이메일을 보낸 시간을 기준으로, 대회 종료 시각인 ***PM 4:20*** 까지 제출하신 것까지만 인정합니다.\n",
        "- 평가 지표는 ARI를 사용하고 있습니다. [-1, 1] 사이의 값을 가지며, 1에 가까울수록 높은 성능입니다.\n",
        "- 발표 자료는 추후에 공지되는 이메일로 보내주세요."
      ]
    }
  ]
}