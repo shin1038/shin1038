{
  "nbformat": 4,
  "nbformat_minor": 0,
  "metadata": {
    "accelerator": "GPU",
    "colab": {
      "name": "object_clustering.ipynb의 사본",
      "provenance": [],
      "collapsed_sections": [],
      "include_colab_link": true
    },
    "kernelspec": {
      "name": "python3",
      "display_name": "Python 3"
    },
    "toc": {
      "base_numbering": 1,
      "nav_menu": {},
      "number_sections": true,
      "sideBar": true,
      "skip_h1_title": false,
      "title_cell": "Table of Contents",
      "title_sidebar": "Contents",
      "toc_cell": false,
      "toc_position": {},
      "toc_section_display": true,
      "toc_window_display": false
    },
    "varInspector": {
      "cols": {
        "lenName": 16,
        "lenType": 16,
        "lenVar": 40
      },
      "kernels_config": {
        "python": {
          "delete_cmd_postfix": "",
          "delete_cmd_prefix": "del ",
          "library": "var_list.py",
          "varRefreshCmd": "print(var_dic_list())"
        },
        "r": {
          "delete_cmd_postfix": ") ",
          "delete_cmd_prefix": "rm(",
          "library": "var_list.r",
          "varRefreshCmd": "cat(var_dic_list()) "
        }
      },
      "types_to_exclude": [
        "module",
        "function",
        "builtin_function_or_method",
        "instance",
        "_Feature"
      ],
      "window_display": false
    },
    "widgets": {
      "application/vnd.jupyter.widget-state+json": {
        "38932fe7facc40a89be6cfe605f018c5": {
          "model_module": "@jupyter-widgets/controls",
          "model_name": "VBoxModel",
          "model_module_version": "1.5.0",
          "state": {
            "_view_name": "VBoxView",
            "_dom_classes": [
              "widget-interact"
            ],
            "_model_name": "VBoxModel",
            "_view_module": "@jupyter-widgets/controls",
            "_model_module_version": "1.5.0",
            "_view_count": null,
            "_view_module_version": "1.5.0",
            "box_style": "",
            "layout": "IPY_MODEL_d60c199e59d94679b58ab13a95af3555",
            "_model_module": "@jupyter-widgets/controls",
            "children": [
              "IPY_MODEL_b50b77f1c83e438db7e13234f27c8293",
              "IPY_MODEL_3ea80325c4f345febab98e1c49c8dd33"
            ]
          }
        },
        "d60c199e59d94679b58ab13a95af3555": {
          "model_module": "@jupyter-widgets/base",
          "model_name": "LayoutModel",
          "model_module_version": "1.2.0",
          "state": {
            "_view_name": "LayoutView",
            "grid_template_rows": null,
            "right": null,
            "justify_content": null,
            "_view_module": "@jupyter-widgets/base",
            "overflow": null,
            "_model_module_version": "1.2.0",
            "_view_count": null,
            "flex_flow": null,
            "width": null,
            "min_width": null,
            "border": null,
            "align_items": null,
            "bottom": null,
            "_model_module": "@jupyter-widgets/base",
            "top": null,
            "grid_column": null,
            "overflow_y": null,
            "overflow_x": null,
            "grid_auto_flow": null,
            "grid_area": null,
            "grid_template_columns": null,
            "flex": null,
            "_model_name": "LayoutModel",
            "justify_items": null,
            "grid_row": null,
            "max_height": null,
            "align_content": null,
            "visibility": null,
            "align_self": null,
            "height": null,
            "min_height": null,
            "padding": null,
            "grid_auto_rows": null,
            "grid_gap": null,
            "max_width": null,
            "order": null,
            "_view_module_version": "1.2.0",
            "grid_template_areas": null,
            "object_position": null,
            "object_fit": null,
            "grid_auto_columns": null,
            "margin": null,
            "display": null,
            "left": null
          }
        },
        "b50b77f1c83e438db7e13234f27c8293": {
          "model_module": "@jupyter-widgets/controls",
          "model_name": "IntSliderModel",
          "model_module_version": "1.5.0",
          "state": {
            "_view_name": "IntSliderView",
            "style": "IPY_MODEL_7f20cfc6611a42b08ac3ff6d95e7a2aa",
            "_dom_classes": [],
            "description": "idx",
            "step": 1,
            "_model_name": "IntSliderModel",
            "orientation": "horizontal",
            "max": 10,
            "_view_module": "@jupyter-widgets/controls",
            "_model_module_version": "1.5.0",
            "value": 0,
            "_view_count": null,
            "disabled": false,
            "_view_module_version": "1.5.0",
            "min": 0,
            "continuous_update": true,
            "readout_format": "d",
            "description_tooltip": null,
            "readout": true,
            "_model_module": "@jupyter-widgets/controls",
            "layout": "IPY_MODEL_433133815c1f4f72aa6e80963c1b1e6a"
          }
        },
        "3ea80325c4f345febab98e1c49c8dd33": {
          "model_module": "@jupyter-widgets/output",
          "model_name": "OutputModel",
          "model_module_version": "1.0.0",
          "state": {
            "_view_name": "OutputView",
            "msg_id": "",
            "_dom_classes": [],
            "_model_name": "OutputModel",
            "outputs": [
              {
                "output_type": "display_data",
                "data": {
                  "image/png": "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\n",
                  "text/plain": "<Figure size 432x288 with 2 Axes>"
                },
                "metadata": {
                  "needs_background": "light"
                }
              }
            ],
            "_view_module": "@jupyter-widgets/output",
            "_model_module_version": "1.0.0",
            "_view_count": null,
            "_view_module_version": "1.0.0",
            "layout": "IPY_MODEL_4b7efa2a9e7a4fbf9189f7a716075519",
            "_model_module": "@jupyter-widgets/output"
          }
        },
        "7f20cfc6611a42b08ac3ff6d95e7a2aa": {
          "model_module": "@jupyter-widgets/controls",
          "model_name": "SliderStyleModel",
          "model_module_version": "1.5.0",
          "state": {
            "_view_name": "StyleView",
            "handle_color": null,
            "_model_name": "SliderStyleModel",
            "description_width": "",
            "_view_module": "@jupyter-widgets/base",
            "_model_module_version": "1.5.0",
            "_view_count": null,
            "_view_module_version": "1.2.0",
            "_model_module": "@jupyter-widgets/controls"
          }
        },
        "433133815c1f4f72aa6e80963c1b1e6a": {
          "model_module": "@jupyter-widgets/base",
          "model_name": "LayoutModel",
          "model_module_version": "1.2.0",
          "state": {
            "_view_name": "LayoutView",
            "grid_template_rows": null,
            "right": null,
            "justify_content": null,
            "_view_module": "@jupyter-widgets/base",
            "overflow": null,
            "_model_module_version": "1.2.0",
            "_view_count": null,
            "flex_flow": null,
            "width": null,
            "min_width": null,
            "border": null,
            "align_items": null,
            "bottom": null,
            "_model_module": "@jupyter-widgets/base",
            "top": null,
            "grid_column": null,
            "overflow_y": null,
            "overflow_x": null,
            "grid_auto_flow": null,
            "grid_area": null,
            "grid_template_columns": null,
            "flex": null,
            "_model_name": "LayoutModel",
            "justify_items": null,
            "grid_row": null,
            "max_height": null,
            "align_content": null,
            "visibility": null,
            "align_self": null,
            "height": null,
            "min_height": null,
            "padding": null,
            "grid_auto_rows": null,
            "grid_gap": null,
            "max_width": null,
            "order": null,
            "_view_module_version": "1.2.0",
            "grid_template_areas": null,
            "object_position": null,
            "object_fit": null,
            "grid_auto_columns": null,
            "margin": null,
            "display": null,
            "left": null
          }
        },
        "4b7efa2a9e7a4fbf9189f7a716075519": {
          "model_module": "@jupyter-widgets/base",
          "model_name": "LayoutModel",
          "model_module_version": "1.2.0",
          "state": {
            "_view_name": "LayoutView",
            "grid_template_rows": null,
            "right": null,
            "justify_content": null,
            "_view_module": "@jupyter-widgets/base",
            "overflow": null,
            "_model_module_version": "1.2.0",
            "_view_count": null,
            "flex_flow": null,
            "width": null,
            "min_width": null,
            "border": null,
            "align_items": null,
            "bottom": null,
            "_model_module": "@jupyter-widgets/base",
            "top": null,
            "grid_column": null,
            "overflow_y": null,
            "overflow_x": null,
            "grid_auto_flow": null,
            "grid_area": null,
            "grid_template_columns": null,
            "flex": null,
            "_model_name": "LayoutModel",
            "justify_items": null,
            "grid_row": null,
            "max_height": null,
            "align_content": null,
            "visibility": null,
            "align_self": null,
            "height": null,
            "min_height": null,
            "padding": null,
            "grid_auto_rows": null,
            "grid_gap": null,
            "max_width": null,
            "order": null,
            "_view_module_version": "1.2.0",
            "grid_template_areas": null,
            "object_position": null,
            "object_fit": null,
            "grid_auto_columns": null,
            "margin": null,
            "display": null,
            "left": null
          }
        }
      }
    }
  },
  "cells": [
    {
      "cell_type": "markdown",
      "metadata": {
        "id": "view-in-github",
        "colab_type": "text"
      },
      "source": [
        "<a href=\"https://colab.research.google.com/github/shin1038/shin1038/blob/main/object_clustering_ipynb%EC%9D%98_%EC%B5%9C%EC%A2%85.ipynb\" target=\"_parent\"><img src=\"https://colab.research.google.com/assets/colab-badge.svg\" alt=\"Open In Colab\"/></a>"
      ]
    },
    {
      "cell_type": "markdown",
      "metadata": {
        "id": "wtd01FUf4VNu"
      },
      "source": [
        "*시작 전, 상단 메뉴 '파일' > '드라이브에 사본 저장' 을 선택하여 사본을 가지고 작업을 진행해주시기 바랍니다.*  "
      ]
    },
    {
      "cell_type": "markdown",
      "metadata": {
        "id": "1e_y7BRTlgaI"
      },
      "source": [
        "# 공지\n",
        "- csv 파일 제출: dcc2021.clustering@gmail.com (발표 자료는 다른 곳으로 제출하셔야 합니다!!!)\n",
        "- 리더 보드: https://github.com/High-East/DCC-12-Leader-Board\n",
        "- 총 제출 횟수는 ***20번*** 입니다.\n",
        "- 이메일을 보낸 시간을 기준으로, 대회 종료 시각인 ***PM 4:20*** 까지 제출하신 것까지만 인정합니다.\n",
        "- 평가 지표는 ARI를 사용하고 있습니다. [-1, 1] 사이의 값을 가지며, 1에 가까울수록 높은 성능입니다.\n"
      ]
    },
    {
      "cell_type": "markdown",
      "metadata": {
        "id": "yLn-OR6KtatH"
      },
      "source": [
        "# 기본 환경 세팅\n",
        "1. **colab 파일**을 사본으로 저장해주세요.\n",
        "2. [dataset](https://drive.google.com/file/d/1QH71L_uXYm0pRuMwubHIJgSix4y8Fi5I/view?usp=sharing)을 바로가기 추가해주세요."
      ]
    },
    {
      "cell_type": "markdown",
      "metadata": {
        "id": "TCSq7dGgEgF2"
      },
      "source": [
        "# 문제\n",
        "> Q. 2040년, 집에서도 인공지능이 도입된 로봇이 사용되기 시작했습니다. 집을 치워주는 로봇 \"깔끔이\"가 있습니다. 아쉽게도 \"깔끔이\"는 특정 물건이 어떤 것인지는 모릅니다. 하지만, A와 B가 같은 물건인지는 인식할 수 있습니다. \"깔끔이\"는 특히, 아이들이 사는 집에서 인기가 많습니다. 아이들이 어지럽힌 집을 \"깔끔이\"가 잘 치울 수 있도록 군집 알고리즘을 만들어보세요!\n"
      ]
    },
    {
      "cell_type": "markdown",
      "metadata": {
        "id": "xzj2NfRUElFk"
      },
      "source": [
        "# 데이터 설명\n",
        "훈련 데이터(Train Data): 637개의 레이블이 없는 사물 데이터  \n",
        "평가 데이터(Test Data): 훈련 데이터와 동일  \n",
        "피쳐 설명(Feature): (128, 128) 크기의 컬러 사진  \n",
        "목표: 가장 적합한 군집의 개수를 찾고, 높은 군집 정확도 얻기  \n"
      ]
    },
    {
      "cell_type": "markdown",
      "metadata": {
        "id": "w8l_7_CzsxTv"
      },
      "source": [
        "# 구글 드라이브 마운트"
      ]
    },
    {
      "cell_type": "code",
      "metadata": {
        "id": "i2tvNRRIn1Cf",
        "colab": {
          "base_uri": "https://localhost:8080/"
        },
        "outputId": "9b9f5a28-30fa-4c95-c8ee-941c0b47a737"
      },
      "source": [
        "# 구글 드라이브를 마운트합니다.\n",
        "from google.colab import drive\n",
        "drive.mount('/content/gdrive', force_remount=True)"
      ],
      "execution_count": null,
      "outputs": [
        {
          "output_type": "stream",
          "name": "stdout",
          "text": [
            "Mounted at /content/gdrive\n"
          ]
        }
      ]
    },
    {
      "cell_type": "code",
      "metadata": {
        "id": "02H2I5OpSBuS",
        "colab": {
          "base_uri": "https://localhost:8080/"
        },
        "outputId": "562aac3c-6885-4c4e-dcb8-fbda5eca2c84"
      },
      "source": [
        "# 폴더 이동\n",
        "import os\n",
        "ROOT = '/content/gdrive/MyDrive'  # 변경하지 마세요. 단, MyDrive가 오류난다면, My\\ Drive로 적으세요.\n",
        "DIR = 'Colab Notebooks'  # 데이터가 있는 위치를 적으세요.\n",
        "\n",
        "PATH = os.path.join(ROOT, DIR)\n",
        "os.chdir(PATH)\n",
        "print(f\"현재 경로: {PATH}\")"
      ],
      "execution_count": null,
      "outputs": [
        {
          "output_type": "stream",
          "name": "stdout",
          "text": [
            "현재 경로: /content/gdrive/MyDrive/Colab Notebooks\n"
          ]
        }
      ]
    },
    {
      "cell_type": "code",
      "metadata": {
        "colab": {
          "base_uri": "https://localhost:8080/"
        },
        "id": "OSJybjB4WT-Y",
        "outputId": "a894882a-55c6-42a2-b7bd-04ad195ecbdf"
      },
      "source": [
        "# 할당 받은 GPU 확인\n",
        "!nvidia-smi"
      ],
      "execution_count": null,
      "outputs": [
        {
          "output_type": "stream",
          "name": "stdout",
          "text": [
            "Sat Nov  6 05:52:03 2021       \n",
            "+-----------------------------------------------------------------------------+\n",
            "| NVIDIA-SMI 495.44       Driver Version: 460.32.03    CUDA Version: 11.2     |\n",
            "|-------------------------------+----------------------+----------------------+\n",
            "| GPU  Name        Persistence-M| Bus-Id        Disp.A | Volatile Uncorr. ECC |\n",
            "| Fan  Temp  Perf  Pwr:Usage/Cap|         Memory-Usage | GPU-Util  Compute M. |\n",
            "|                               |                      |               MIG M. |\n",
            "|===============================+======================+======================|\n",
            "|   0  Tesla K80           Off  | 00000000:00:04.0 Off |                    0 |\n",
            "| N/A   48C    P8    30W / 149W |      0MiB / 11441MiB |      0%      Default |\n",
            "|                               |                      |                  N/A |\n",
            "+-------------------------------+----------------------+----------------------+\n",
            "                                                                               \n",
            "+-----------------------------------------------------------------------------+\n",
            "| Processes:                                                                  |\n",
            "|  GPU   GI   CI        PID   Type   Process name                  GPU Memory |\n",
            "|        ID   ID                                                   Usage      |\n",
            "|=============================================================================|\n",
            "|  No running processes found                                                 |\n",
            "+-----------------------------------------------------------------------------+\n"
          ]
        }
      ]
    },
    {
      "cell_type": "markdown",
      "metadata": {
        "id": "alPRbetAZ2Y5"
      },
      "source": [
        "# 패키지 임포트"
      ]
    },
    {
      "cell_type": "code",
      "metadata": {
        "ExecuteTime": {
          "end_time": "2020-09-24T13:02:15.110506Z",
          "start_time": "2020-09-24T13:02:15.038366Z"
        },
        "colab": {
          "base_uri": "https://localhost:8080/"
        },
        "id": "y4L2JTQvZ2Y6",
        "outputId": "84370902-7b11-4f39-a7b8-6bb1049891e0"
      },
      "source": [
        "import numpy as np\n",
        "import pandas as pd\n",
        "import tensorflow as tf\n",
        "from tensorflow.keras import models, layers, activations\n",
        "from tensorflow.keras import optimizers\n",
        "from sklearn.cluster import KMeans\n",
        "\n",
        "import cv2\n",
        "import matplotlib.pyplot as plt\n",
        "from scipy.spatial.distance import cdist\n",
        "import ipywidgets as widgets\n",
        "from ipywidgets import interact\n",
        "\n",
        "print(f\"tensorflow version: {tf.__version__}\")\n",
        "print(f\"keras version: {tf.keras.__version__}\")"
      ],
      "execution_count": null,
      "outputs": [
        {
          "output_type": "stream",
          "name": "stdout",
          "text": [
            "tensorflow version: 2.6.0\n",
            "keras version: 2.6.0\n"
          ]
        }
      ]
    },
    {
      "cell_type": "markdown",
      "metadata": {
        "id": "BtODoU1zZ2Y7"
      },
      "source": [
        "# 커스텀 함수 정의"
      ]
    },
    {
      "cell_type": "code",
      "metadata": {
        "ExecuteTime": {
          "end_time": "2020-09-24T13:03:22.326964Z",
          "start_time": "2020-09-24T13:03:22.320821Z"
        },
        "id": "0HwpuGqAZ2Y7"
      },
      "source": [
        "# Visualization function\n",
        "def show_img(dataset, predict, idx):\n",
        "    fig = plt.figure()\n",
        "    ax1 = fig.add_subplot(1, 2, 1)\n",
        "    ax1.imshow(cv2.cvtColor(dataset[idx], cv2.COLOR_BGR2RGB))\n",
        "    ax1.set_title(\"Raw image\")\n",
        "    ax2 = fig.add_subplot(1, 2, 2)\n",
        "    ax2.imshow(cv2.cvtColor(predict[idx], cv2.COLOR_BGR2RGB))\n",
        "    ax2.set_title(\"Reconstructed image\")\n",
        "    plt.show()\n",
        "\n",
        "# Elbow method\n",
        "def elbow_method(X, a, b):\n",
        "    sse = []\n",
        "    for i in range(a, b + 1):\n",
        "        km = KMeans(n_clusters=i, init='k-means++', random_state=1207)\n",
        "        km.fit(X)\n",
        "        sse.append(km.inertia_)\n",
        "    plt.figure(figsize=(8,6))\n",
        "    plt.plot(range(a, b + 1), sse, marker='o', c='black')\n",
        "    plt.xlabel(\"Number of clusters\", fontsize=12)\n",
        "    plt.ylabel(\"SSE\", fontsize=12)\n",
        "    plt.title(\"Elbow method\", fontsize=15)\n",
        "    plt.grid(linestyle='--')\n",
        "    plt.show()"
      ],
      "execution_count": null,
      "outputs": []
    },
    {
      "cell_type": "markdown",
      "metadata": {
        "id": "dCIweDyBst3X"
      },
      "source": [
        "# 데이터 로드"
      ]
    },
    {
      "cell_type": "code",
      "metadata": {
        "colab": {
          "base_uri": "https://localhost:8080/"
        },
        "id": "ql8-57JAaVVs",
        "outputId": "2d728ed4-9b3c-4d68-cc20-7f91cff20fa9"
      },
      "source": [
        "# 데이터 로드\n",
        "path = \"/content/dataset.npy\"\n",
        "dataset = np.load(path)\n",
        "dataset = np.float32(dataset / 255)  # 데이터 정규화\n",
        "\n",
        "# 데이터 shape 확인\n",
        "print(f\"dataset shape: {dataset.shape}\")"
      ],
      "execution_count": null,
      "outputs": [
        {
          "output_type": "stream",
          "name": "stdout",
          "text": [
            "dataset shape: (637, 128, 128, 3)\n"
          ]
        }
      ]
    },
    {
      "cell_type": "code",
      "metadata": {
        "ExecuteTime": {
          "end_time": "2020-09-24T13:02:23.706891Z",
          "start_time": "2020-09-24T13:02:23.560367Z"
        },
        "colab": {
          "base_uri": "https://localhost:8080/",
          "height": 248
        },
        "id": "76ASrh38Z2Y8",
        "outputId": "e57c8a1c-a9a3-4e4c-d11b-5a175730fb96"
      },
      "source": [
        "# 이미지 확인\n",
        "idx = 2\n",
        "plt.imshow(cv2.cvtColor(dataset[idx], cv2.COLOR_BGR2RGB))\n",
        "plt.tick_params(left=False, labelleft=False, bottom=False, labelbottom=False)\n",
        "plt.show()"
      ],
      "execution_count": null,
      "outputs": [
        {
          "output_type": "display_data",
          "data": {
            "image/png": "[encoded data removed]",
            "text/plain": [
              "<Figure size 432x288 with 1 Axes>"
            ]
          },
          "metadata": {}
        }
      ]
    },
    {
      "cell_type": "code",
      "metadata": {
        "id": "wVwGkCztiZpr"
      },
      "source": [
        ""
      ],
      "execution_count": null,
      "outputs": []
    },
    {
      "cell_type": "markdown",
      "metadata": {
        "id": "ZGEuRXsDbGzT"
      },
      "source": [
        "# 차원 축소\n",
        "- PCA와 같은 다른 차원 축소 기법을 사용해도 괜찮습니다."
      ]
    },
    {
      "cell_type": "code",
      "metadata": {
        "id": "3L013pofxxLA"
      },
      "source": [
        ""
      ],
      "execution_count": null,
      "outputs": []
    },
    {
      "cell_type": "markdown",
      "metadata": {
        "id": "jyow1xVZbJB1"
      },
      "source": [
        "## 오토인코더"
      ]
    },
    {
      "cell_type": "code",
      "metadata": {
        "colab": {
          "base_uri": "https://localhost:8080/"
        },
        "id": "6CGfM7TGbOi_",
        "outputId": "94013c8a-d85d-4066-c8c5-3259e8614e30"
      },
      "source": [
        "# 인코더\n",
        "encoder = models.Sequential([\n",
        "          layers.InputLayer(input_shape=(256, 256, 3)),\n",
        "          layers.Conv2D(filters=16, kernel_size=3, strides=2, padding=\"same\"),\n",
        "          layers.BatchNormalization(),\n",
        "          layers.ReLU(),\n",
        "          layers.Conv2D(filters=32, kernel_size=3, strides=2, padding=\"same\"),\n",
        "          layers.BatchNormalization(),\n",
        "          layers.ReLU(),\n",
        "          layers.Conv2D(filters=64, kernel_size=3, strides=2, padding=\"same\"),\n",
        "          layers.BatchNormalization(),\n",
        "          layers.ReLU(),\n",
        "          layers.Conv2D(filters=128, kernel_size=3, strides=2, padding=\"same\"),\n",
        "          layers.BatchNormalization(),\n",
        "          layers.ReLU(),\n",
        "          layers.Conv2D(filters=256, kernel_size=3, strides=2, padding=\"same\"),\n",
        "          layers.BatchNormalization(),\n",
        "          layers.ReLU(),\n",
        "          # layers.Flatten(),\n",
        "          # layers.Dense(units=128, activation='relu')\n",
        "          ],\n",
        "          name='Encoder')\n",
        "\n",
        "# 모델 구조 시각화\n",
        "encoder.summary()"
      ],
      "execution_count": null,
      "outputs": [
        {
          "output_type": "stream",
          "name": "stdout",
          "text": [
            "Model: \"Encoder\"\n",
            "_________________________________________________________________\n",
            "Layer (type)                 Output Shape              Param #   \n",
            "=================================================================\n",
            "conv2d_45 (Conv2D)           (None, 128, 128, 16)      448       \n",
            "_________________________________________________________________\n",
            "batch_normalization_85 (Batc (None, 128, 128, 16)      64        \n",
            "_________________________________________________________________\n",
            "re_lu_88 (ReLU)              (None, 128, 128, 16)      0         \n",
            "_________________________________________________________________\n",
            "conv2d_46 (Conv2D)           (None, 64, 64, 32)        4640      \n",
            "_________________________________________________________________\n",
            "batch_normalization_86 (Batc (None, 64, 64, 32)        128       \n",
            "_________________________________________________________________\n",
            "re_lu_89 (ReLU)              (None, 64, 64, 32)        0         \n",
            "_________________________________________________________________\n",
            "conv2d_47 (Conv2D)           (None, 32, 32, 64)        18496     \n",
            "_________________________________________________________________\n",
            "batch_normalization_87 (Batc (None, 32, 32, 64)        256       \n",
            "_________________________________________________________________\n",
            "re_lu_90 (ReLU)              (None, 32, 32, 64)        0         \n",
            "_________________________________________________________________\n",
            "conv2d_48 (Conv2D)           (None, 16, 16, 128)       73856     \n",
            "_________________________________________________________________\n",
            "batch_normalization_88 (Batc (None, 16, 16, 128)       512       \n",
            "_________________________________________________________________\n",
            "re_lu_91 (ReLU)              (None, 16, 16, 128)       0         \n",
            "_________________________________________________________________\n",
            "conv2d_49 (Conv2D)           (None, 8, 8, 256)         295168    \n",
            "_________________________________________________________________\n",
            "batch_normalization_89 (Batc (None, 8, 8, 256)         1024      \n",
            "_________________________________________________________________\n",
            "re_lu_92 (ReLU)              (None, 8, 8, 256)         0         \n",
            "=================================================================\n",
            "Total params: 394,592\n",
            "Trainable params: 393,600\n",
            "Non-trainable params: 992\n",
            "_________________________________________________________________\n"
          ]
        }
      ]
    },
    {
      "cell_type": "code",
      "metadata": {
        "ExecuteTime": {
          "end_time": "2020-09-24T12:59:20.625388Z",
          "start_time": "2020-09-24T12:59:20.538373Z"
        },
        "colab": {
          "base_uri": "https://localhost:8080/"
        },
        "id": "-dikyy3lZ2Y_",
        "outputId": "6cfbbfda-8bca-489c-a97b-f685e53c9c2d"
      },
      "source": [
        "# 디코더\n",
        "decoder = models.Sequential([\n",
        "          layers.InputLayer(input_shape=(8,8,256)),  # 인코더의 마지막 output shape을 입력하세요.\n",
        "          # layers.Dense(units=512, activation='relu'),\n",
        "          # layers.Reshape(target_shape=(8, 8, 8)),\n",
        "          layers.Conv2DTranspose(filters=256, kernel_size=3, strides=2, padding=\"same\"),\n",
        "          layers.BatchNormalization(),\n",
        "          layers.ReLU(),\n",
        "          layers.Conv2DTranspose(filters=128, kernel_size=3, strides=2, padding=\"same\"),\n",
        "          layers.BatchNormalization(),\n",
        "          layers.ReLU(),\n",
        "          layers.Conv2DTranspose(filters=64, kernel_size=3, strides=2, padding=\"same\"),\n",
        "          layers.BatchNormalization(),\n",
        "          layers.ReLU(),\n",
        "          layers.Conv2DTranspose(filters=32, kernel_size=3, strides=2, padding=\"same\"),\n",
        "          layers.BatchNormalization(),\n",
        "          layers.ReLU(),\n",
        "            layers.Conv2DTranspose(filters=16, kernel_size=3, strides=2, padding=\"same\"),\n",
        "          layers.BatchNormalization(),\n",
        "          layers.ReLU(),\n",
        "          layers.Conv2D(filters=3, kernel_size=1, strides=1, activation='tanh'),\n",
        "         ],\n",
        "          name='Decoder')\n",
        "\n",
        "# 모델 구조 시각화\n",
        "decoder.summary()"
      ],
      "execution_count": null,
      "outputs": [
        {
          "output_type": "stream",
          "name": "stdout",
          "text": [
            "Model: \"Decoder\"\n",
            "_________________________________________________________________\n",
            "Layer (type)                 Output Shape              Param #   \n",
            "=================================================================\n",
            "conv2d_transpose_52 (Conv2DT (None, 16, 16, 256)       590080    \n",
            "_________________________________________________________________\n",
            "batch_normalization_90 (Batc (None, 16, 16, 256)       1024      \n",
            "_________________________________________________________________\n",
            "re_lu_93 (ReLU)              (None, 16, 16, 256)       0         \n",
            "_________________________________________________________________\n",
            "conv2d_transpose_53 (Conv2DT (None, 32, 32, 128)       295040    \n",
            "_________________________________________________________________\n",
            "batch_normalization_91 (Batc (None, 32, 32, 128)       512       \n",
            "_________________________________________________________________\n",
            "re_lu_94 (ReLU)              (None, 32, 32, 128)       0         \n",
            "_________________________________________________________________\n",
            "conv2d_transpose_54 (Conv2DT (None, 64, 64, 64)        73792     \n",
            "_________________________________________________________________\n",
            "batch_normalization_92 (Batc (None, 64, 64, 64)        256       \n",
            "_________________________________________________________________\n",
            "re_lu_95 (ReLU)              (None, 64, 64, 64)        0         \n",
            "_________________________________________________________________\n",
            "conv2d_transpose_55 (Conv2DT (None, 128, 128, 32)      18464     \n",
            "_________________________________________________________________\n",
            "batch_normalization_93 (Batc (None, 128, 128, 32)      128       \n",
            "_________________________________________________________________\n",
            "re_lu_96 (ReLU)              (None, 128, 128, 32)      0         \n",
            "_________________________________________________________________\n",
            "conv2d_transpose_56 (Conv2DT (None, 256, 256, 16)      4624      \n",
            "_________________________________________________________________\n",
            "batch_normalization_94 (Batc (None, 256, 256, 16)      64        \n",
            "_________________________________________________________________\n",
            "re_lu_97 (ReLU)              (None, 256, 256, 16)      0         \n",
            "_________________________________________________________________\n",
            "conv2d_50 (Conv2D)           (None, 256, 256, 3)       51        \n",
            "=================================================================\n",
            "Total params: 984,035\n",
            "Trainable params: 983,043\n",
            "Non-trainable params: 992\n",
            "_________________________________________________________________\n"
          ]
        }
      ]
    },
    {
      "cell_type": "code",
      "metadata": {
        "ExecuteTime": {
          "end_time": "2020-09-24T12:59:24.178525Z",
          "start_time": "2020-09-24T12:59:24.131861Z"
        },
        "id": "vO556_UtZ2Y_"
      },
      "source": [
        "# 오토인코더: 인코더 + 디코더 구조\n",
        "autoencoder = models.Sequential([\n",
        "              layers.InputLayer(input_shape=(256, 256, 3), name='Input'),\n",
        "              encoder,  # 인코더\n",
        "              decoder])  # 디코더"
      ],
      "execution_count": null,
      "outputs": []
    },
    {
      "cell_type": "markdown",
      "metadata": {
        "id": "tMOwTyRmZ2ZA"
      },
      "source": [
        "## 학습\n",
        "- Optimizer, loss 및 모든 하이퍼파라미터를 자유롭게 조정하며 실험해보세요.\n",
        "- Optimizer 참고 자료 1 : https://www.tensorflow.org/api_docs/python/tf/keras/optimizers\n",
        "- Optimizer 참고 자료 2: https://keras.io/ko/optimizers/\n",
        "- Loss 참고자료 1: https://www.tensorflow.org/api_docs/python/tf/keras/losses\n",
        "- Loss 참고자료 2: https://keras.io/ko/losses/"
      ]
    },
    {
      "cell_type": "code",
      "metadata": {
        "ExecuteTime": {
          "end_time": "2020-09-24T13:03:08.919407Z",
          "start_time": "2020-09-24T13:02:30.562371Z"
        },
        "colab": {
          "base_uri": "https://localhost:8080/"
        },
        "id": "44WPXmPjZ2ZA",
        "outputId": "f1168402-16f9-43c1-b865-d7596583a32c"
      },
      "source": [
        "# 하이퍼파라미터 설정\n",
        "lr = 1e-03\n",
        "optimizer = optimizers.Adam(learning_rate=lr)\n",
        "loss = 'mse'\n",
        "epochs = 50\n",
        "batch_size = 16\n",
        "\n",
        "# 모델 컴파일(=optimizer, loss 세팅)\n",
        "autoencoder.compile(optimizer=optimizer,\n",
        "                    loss=loss)\n",
        "\n",
        "# 학습\n",
        "autoencoder.fit(x=dataset, y=dataset, epochs=epochs, batch_size=batch_size)"
      ],
      "execution_count": null,
      "outputs": [
        {
          "output_type": "stream",
          "name": "stdout",
          "text": [
            "Epoch 1/50\n",
            "WARNING:tensorflow:Model was constructed with shape (None, 256, 256, 3) for input KerasTensor(type_spec=TensorSpec(shape=(None, 256, 256, 3), dtype=tf.float32, name='Input'), name='Input', description=\"created by layer 'Input'\"), but it was called on an input with incompatible shape (None, 128, 128, 3).\n",
            "WARNING:tensorflow:Model was constructed with shape (None, 256, 256, 3) for input KerasTensor(type_spec=TensorSpec(shape=(None, 256, 256, 3), dtype=tf.float32, name='input_16'), name='input_16', description=\"created by layer 'input_16'\"), but it was called on an input with incompatible shape (None, 128, 128, 3).\n",
            "WARNING:tensorflow:Model was constructed with shape (None, 8, 8, 256) for input KerasTensor(type_spec=TensorSpec(shape=(None, 8, 8, 256), dtype=tf.float32, name='input_18'), name='input_18', description=\"created by layer 'input_18'\"), but it was called on an input with incompatible shape (None, 4, 4, 256).\n",
            "WARNING:tensorflow:Model was constructed with shape (None, 256, 256, 3) for input KerasTensor(type_spec=TensorSpec(shape=(None, 256, 256, 3), dtype=tf.float32, name='Input'), name='Input', description=\"created by layer 'Input'\"), but it was called on an input with incompatible shape (None, 128, 128, 3).\n",
            "WARNING:tensorflow:Model was constructed with shape (None, 256, 256, 3) for input KerasTensor(type_spec=TensorSpec(shape=(None, 256, 256, 3), dtype=tf.float32, name='input_16'), name='input_16', description=\"created by layer 'input_16'\"), but it was called on an input with incompatible shape (None, 128, 128, 3).\n",
            "WARNING:tensorflow:Model was constructed with shape (None, 8, 8, 256) for input KerasTensor(type_spec=TensorSpec(shape=(None, 8, 8, 256), dtype=tf.float32, name='input_18'), name='input_18', description=\"created by layer 'input_18'\"), but it was called on an input with incompatible shape (None, 4, 4, 256).\n",
            "40/40 [==============================] - 3s 36ms/step - loss: 0.0038\n",
            "Epoch 2/50\n",
            "40/40 [==============================] - 1s 34ms/step - loss: 0.0035\n",
            "Epoch 3/50\n",
            "40/40 [==============================] - 1s 34ms/step - loss: 0.0035\n",
            "Epoch 4/50\n",
            "40/40 [==============================] - 1s 34ms/step - loss: 0.0032\n",
            "Epoch 5/50\n",
            "40/40 [==============================] - 1s 34ms/step - loss: 0.0031\n",
            "Epoch 6/50\n",
            "40/40 [==============================] - 1s 35ms/step - loss: 0.0029\n",
            "Epoch 7/50\n",
            "40/40 [==============================] - 1s 35ms/step - loss: 0.0029\n",
            "Epoch 8/50\n",
            "40/40 [==============================] - 1s 34ms/step - loss: 0.0029\n",
            "Epoch 9/50\n",
            "40/40 [==============================] - 1s 34ms/step - loss: 0.0034\n",
            "Epoch 10/50\n",
            "40/40 [==============================] - 1s 35ms/step - loss: 0.0030\n",
            "Epoch 11/50\n",
            "40/40 [==============================] - 1s 34ms/step - loss: 0.0030\n",
            "Epoch 12/50\n",
            "40/40 [==============================] - 1s 34ms/step - loss: 0.0027\n",
            "Epoch 13/50\n",
            "40/40 [==============================] - 1s 34ms/step - loss: 0.0027\n",
            "Epoch 14/50\n",
            "40/40 [==============================] - 1s 35ms/step - loss: 0.0026\n",
            "Epoch 15/50\n",
            "40/40 [==============================] - 1s 34ms/step - loss: 0.0025\n",
            "Epoch 16/50\n",
            "40/40 [==============================] - 1s 35ms/step - loss: 0.0026\n",
            "Epoch 17/50\n",
            "40/40 [==============================] - 1s 34ms/step - loss: 0.0024\n",
            "Epoch 18/50\n",
            "40/40 [==============================] - 1s 34ms/step - loss: 0.0025\n",
            "Epoch 19/50\n",
            "40/40 [==============================] - 1s 34ms/step - loss: 0.0025\n",
            "Epoch 20/50\n",
            "40/40 [==============================] - 1s 34ms/step - loss: 0.0023\n",
            "Epoch 21/50\n",
            "40/40 [==============================] - 1s 35ms/step - loss: 0.0023\n",
            "Epoch 22/50\n",
            "40/40 [==============================] - 1s 35ms/step - loss: 0.0022\n",
            "Epoch 23/50\n",
            "40/40 [==============================] - 1s 34ms/step - loss: 0.0022\n",
            "Epoch 24/50\n",
            "40/40 [==============================] - 1s 34ms/step - loss: 0.0022\n",
            "Epoch 25/50\n",
            "40/40 [==============================] - 1s 34ms/step - loss: 0.0023\n",
            "Epoch 26/50\n",
            "40/40 [==============================] - 1s 35ms/step - loss: 0.0021\n",
            "Epoch 27/50\n",
            "40/40 [==============================] - 1s 35ms/step - loss: 0.0021\n",
            "Epoch 28/50\n",
            "40/40 [==============================] - 1s 35ms/step - loss: 0.0021\n",
            "Epoch 29/50\n",
            "40/40 [==============================] - 1s 34ms/step - loss: 0.0020\n",
            "Epoch 30/50\n",
            "40/40 [==============================] - 1s 34ms/step - loss: 0.0020\n",
            "Epoch 31/50\n",
            "40/40 [==============================] - 1s 34ms/step - loss: 0.0019\n",
            "Epoch 32/50\n",
            "40/40 [==============================] - 1s 34ms/step - loss: 0.0019\n",
            "Epoch 33/50\n",
            "40/40 [==============================] - 1s 34ms/step - loss: 0.0019\n",
            "Epoch 34/50\n",
            "40/40 [==============================] - 1s 35ms/step - loss: 0.0019\n",
            "Epoch 35/50\n",
            "40/40 [==============================] - 1s 35ms/step - loss: 0.0018\n",
            "Epoch 36/50\n",
            "40/40 [==============================] - 1s 35ms/step - loss: 0.0019\n",
            "Epoch 37/50\n",
            "40/40 [==============================] - 1s 34ms/step - loss: 0.0024\n",
            "Epoch 38/50\n",
            "40/40 [==============================] - 1s 34ms/step - loss: 0.0029\n",
            "Epoch 39/50\n",
            "40/40 [==============================] - 1s 34ms/step - loss: 0.0022\n",
            "Epoch 40/50\n",
            "40/40 [==============================] - 1s 34ms/step - loss: 0.0020\n",
            "Epoch 41/50\n",
            "40/40 [==============================] - 1s 34ms/step - loss: 0.0019\n",
            "Epoch 42/50\n",
            "40/40 [==============================] - 1s 34ms/step - loss: 0.0018\n",
            "Epoch 43/50\n",
            "40/40 [==============================] - 1s 34ms/step - loss: 0.0018\n",
            "Epoch 44/50\n",
            "40/40 [==============================] - 1s 34ms/step - loss: 0.0017\n",
            "Epoch 45/50\n",
            "40/40 [==============================] - 1s 35ms/step - loss: 0.0017\n",
            "Epoch 46/50\n",
            "40/40 [==============================] - 1s 34ms/step - loss: 0.0019\n",
            "Epoch 47/50\n",
            "40/40 [==============================] - 1s 34ms/step - loss: 0.0017\n",
            "Epoch 48/50\n",
            "40/40 [==============================] - 1s 34ms/step - loss: 0.0017\n",
            "Epoch 49/50\n",
            "40/40 [==============================] - 1s 35ms/step - loss: 0.0017\n",
            "Epoch 50/50\n",
            "40/40 [==============================] - 1s 34ms/step - loss: 0.0016\n"
          ]
        },
        {
          "output_type": "execute_result",
          "data": {
            "text/plain": [
              "<keras.callbacks.History at 0x7fc109e81dd0>"
            ]
          },
          "metadata": {},
          "execution_count": 57
        }
      ]
    },
    {
      "cell_type": "markdown",
      "metadata": {
        "id": "y-KYqC8PZ2ZA"
      },
      "source": [
        "## 복원된 이미지 확인"
      ]
    },
    {
      "cell_type": "code",
      "metadata": {
        "ExecuteTime": {
          "end_time": "2020-09-24T13:03:30.029523Z",
          "start_time": "2020-09-24T13:03:29.741704Z"
        },
        "colab": {
          "base_uri": "https://localhost:8080/",
          "height": 265,
          "referenced_widgets": [
            "38932fe7facc40a89be6cfe605f018c5",
            "d60c199e59d94679b58ab13a95af3555",
            "b50b77f1c83e438db7e13234f27c8293",
            "3ea80325c4f345febab98e1c49c8dd33",
            "7f20cfc6611a42b08ac3ff6d95e7a2aa",
            "433133815c1f4f72aa6e80963c1b1e6a",
            "4b7efa2a9e7a4fbf9189f7a716075519"
          ]
        },
        "id": "-nSeW5i2Z2ZA",
        "outputId": "401d0df0-2125-4517-dce4-6383fd5328ee"
      },
      "source": [
        "# 오토인코더를 통해 얻은 이미지(=복원된 이미지)\n",
        "max_len = 10\n",
        "predict = autoencoder(dataset[:max_len])\n",
        "\n",
        "# 시각화\n",
        "slider = widgets.IntSlider(min=0, max=max_len, step=1, value=0)\n",
        "interact(lambda idx: show_img(dataset[:max_len], predict.numpy(), idx), idx=slider)"
      ],
      "execution_count": null,
      "outputs": [
        {
          "output_type": "display_data",
          "data": {
            "application/vnd.jupyter.widget-view+json": {
              "model_id": "38932fe7facc40a89be6cfe605f018c5",
              "version_minor": 0,
              "version_major": 2
            },
            "text/plain": [
              "interactive(children=(IntSlider(value=0, description='idx', max=10), Output()), _dom_classes=('widget-interact…"
            ]
          },
          "metadata": {}
        },
        {
          "output_type": "execute_result",
          "data": {
            "text/plain": [
              "<function __main__.<lambda>>"
            ]
          },
          "metadata": {},
          "execution_count": 58
        }
      ]
    },
    {
      "cell_type": "markdown",
      "metadata": {
        "id": "YAyP-F1PZ2ZB"
      },
      "source": [
        "# 클러스터링(K-means)\n",
        "- 클러스터링 기법 변경하셔도 상관 없습니다."
      ]
    },
    {
      "cell_type": "markdown",
      "metadata": {
        "id": "9IpljukZZ2ZB"
      },
      "source": [
        "## Latent vector 생성"
      ]
    },
    {
      "cell_type": "code",
      "metadata": {
        "id": "WstiS-rPZ2ZB"
      },
      "source": [
        "# Extract latent vector(mini-batch version, OOM 방지)\n",
        "batch_size = 64\n",
        "latent_vec = []\n",
        "num_batch = len(dataset) // batch_size\n",
        "\n",
        "for i in range(num_batch + 1):\n",
        "    batch_set = dataset[i * batch_size:(i + 1) * batch_size]\n",
        "    latent_vec.append(encoder(batch_set).numpy())\n",
        "\n",
        "latent_vec = np.concatenate(latent_vec, axis=0)\n",
        "\n",
        "if np.ndim(latent_vec) != 2:\n",
        "    latent_vec = np.reshape(latent_vec, [len(dataset), -1])"
      ],
      "execution_count": null,
      "outputs": []
    },
    {
      "cell_type": "markdown",
      "metadata": {
        "id": "Q9mRkE06Z2ZB"
      },
      "source": [
        "## Cluster 개수 결정"
      ]
    },
    {
      "cell_type": "code",
      "metadata": {
        "id": "2h3fIC7gZ2ZB",
        "colab": {
          "base_uri": "https://localhost:8080/",
          "height": 341
        },
        "outputId": "cc55cc56-c15f-4f16-b015-a95d35fea57f"
      },
      "source": [
        "# Elbow method를 통해서 최적의 cluster 개수(K)를 찾아보세요.\n",
        "# K는 15이하입니다.\n",
        "# latent_vec의 크기가 클수록 런타임이 오래 걸리니 참고하세요.\n",
        "start = 1\n",
        "end = 15\n",
        "elbow_method(latent_vec, start, end)"
      ],
      "execution_count": null,
      "outputs": [
        {
          "output_type": "error",
          "ename": "KeyboardInterrupt",
          "evalue": "ignored",
          "traceback": [
            "\u001b[0;31m---------------------------------------------------------------------------\u001b[0m",
            "\u001b[0;31mKeyboardInterrupt\u001b[0m                         Traceback (most recent call last)",
            "\u001b[0;32m<ipython-input-21-0d6fea7e88e5>\u001b[0m in \u001b[0;36m<module>\u001b[0;34m()\u001b[0m\n\u001b[1;32m      4\u001b[0m \u001b[0mstart\u001b[0m \u001b[0;34m=\u001b[0m \u001b[0;36m1\u001b[0m\u001b[0;34m\u001b[0m\u001b[0;34m\u001b[0m\u001b[0m\n\u001b[1;32m      5\u001b[0m \u001b[0mend\u001b[0m \u001b[0;34m=\u001b[0m \u001b[0;36m15\u001b[0m\u001b[0;34m\u001b[0m\u001b[0;34m\u001b[0m\u001b[0m\n\u001b[0;32m----> 6\u001b[0;31m \u001b[0melbow_method\u001b[0m\u001b[0;34m(\u001b[0m\u001b[0mlatent_vec\u001b[0m\u001b[0;34m,\u001b[0m \u001b[0mstart\u001b[0m\u001b[0;34m,\u001b[0m \u001b[0mend\u001b[0m\u001b[0;34m)\u001b[0m\u001b[0;34m\u001b[0m\u001b[0;34m\u001b[0m\u001b[0m\n\u001b[0m",
            "\u001b[0;32m<ipython-input-5-cf6dcead7811>\u001b[0m in \u001b[0;36melbow_method\u001b[0;34m(X, a, b)\u001b[0m\n\u001b[1;32m     15\u001b[0m     \u001b[0;32mfor\u001b[0m \u001b[0mi\u001b[0m \u001b[0;32min\u001b[0m \u001b[0mrange\u001b[0m\u001b[0;34m(\u001b[0m\u001b[0ma\u001b[0m\u001b[0;34m,\u001b[0m \u001b[0mb\u001b[0m \u001b[0;34m+\u001b[0m \u001b[0;36m1\u001b[0m\u001b[0;34m)\u001b[0m\u001b[0;34m:\u001b[0m\u001b[0;34m\u001b[0m\u001b[0;34m\u001b[0m\u001b[0m\n\u001b[1;32m     16\u001b[0m         \u001b[0mkm\u001b[0m \u001b[0;34m=\u001b[0m \u001b[0mKMeans\u001b[0m\u001b[0;34m(\u001b[0m\u001b[0mn_clusters\u001b[0m\u001b[0;34m=\u001b[0m\u001b[0mi\u001b[0m\u001b[0;34m,\u001b[0m \u001b[0minit\u001b[0m\u001b[0;34m=\u001b[0m\u001b[0;34m'k-means++'\u001b[0m\u001b[0;34m,\u001b[0m \u001b[0mrandom_state\u001b[0m\u001b[0;34m=\u001b[0m\u001b[0;36m1207\u001b[0m\u001b[0;34m)\u001b[0m\u001b[0;34m\u001b[0m\u001b[0;34m\u001b[0m\u001b[0m\n\u001b[0;32m---> 17\u001b[0;31m         \u001b[0mkm\u001b[0m\u001b[0;34m.\u001b[0m\u001b[0mfit\u001b[0m\u001b[0;34m(\u001b[0m\u001b[0mX\u001b[0m\u001b[0;34m)\u001b[0m\u001b[0;34m\u001b[0m\u001b[0;34m\u001b[0m\u001b[0m\n\u001b[0m\u001b[1;32m     18\u001b[0m         \u001b[0msse\u001b[0m\u001b[0;34m.\u001b[0m\u001b[0mappend\u001b[0m\u001b[0;34m(\u001b[0m\u001b[0mkm\u001b[0m\u001b[0;34m.\u001b[0m\u001b[0minertia_\u001b[0m\u001b[0;34m)\u001b[0m\u001b[0;34m\u001b[0m\u001b[0;34m\u001b[0m\u001b[0m\n\u001b[1;32m     19\u001b[0m     \u001b[0mplt\u001b[0m\u001b[0;34m.\u001b[0m\u001b[0mfigure\u001b[0m\u001b[0;34m(\u001b[0m\u001b[0mfigsize\u001b[0m\u001b[0;34m=\u001b[0m\u001b[0;34m(\u001b[0m\u001b[0;36m8\u001b[0m\u001b[0;34m,\u001b[0m\u001b[0;36m6\u001b[0m\u001b[0;34m)\u001b[0m\u001b[0;34m)\u001b[0m\u001b[0;34m\u001b[0m\u001b[0;34m\u001b[0m\u001b[0m\n",
            "\u001b[0;32m/usr/local/lib/python3.7/dist-packages/sklearn/cluster/_kmeans.py\u001b[0m in \u001b[0;36mfit\u001b[0;34m(self, X, y, sample_weight)\u001b[0m\n\u001b[1;32m    898\u001b[0m         \u001b[0;31m# subtract of mean of x for more accurate distance computations\u001b[0m\u001b[0;34m\u001b[0m\u001b[0;34m\u001b[0m\u001b[0;34m\u001b[0m\u001b[0m\n\u001b[1;32m    899\u001b[0m         \u001b[0;32mif\u001b[0m \u001b[0;32mnot\u001b[0m \u001b[0msp\u001b[0m\u001b[0;34m.\u001b[0m\u001b[0missparse\u001b[0m\u001b[0;34m(\u001b[0m\u001b[0mX\u001b[0m\u001b[0;34m)\u001b[0m\u001b[0;34m:\u001b[0m\u001b[0;34m\u001b[0m\u001b[0;34m\u001b[0m\u001b[0m\n\u001b[0;32m--> 900\u001b[0;31m             \u001b[0mX_mean\u001b[0m \u001b[0;34m=\u001b[0m \u001b[0mX\u001b[0m\u001b[0;34m.\u001b[0m\u001b[0mmean\u001b[0m\u001b[0;34m(\u001b[0m\u001b[0maxis\u001b[0m\u001b[0;34m=\u001b[0m\u001b[0;36m0\u001b[0m\u001b[0;34m)\u001b[0m\u001b[0;34m\u001b[0m\u001b[0;34m\u001b[0m\u001b[0m\n\u001b[0m\u001b[1;32m    901\u001b[0m             \u001b[0;31m# The copy was already done above\u001b[0m\u001b[0;34m\u001b[0m\u001b[0;34m\u001b[0m\u001b[0;34m\u001b[0m\u001b[0m\n\u001b[1;32m    902\u001b[0m             \u001b[0mX\u001b[0m \u001b[0;34m-=\u001b[0m \u001b[0mX_mean\u001b[0m\u001b[0;34m\u001b[0m\u001b[0;34m\u001b[0m\u001b[0m\n",
            "\u001b[0;32m/usr/local/lib/python3.7/dist-packages/numpy/core/_methods.py\u001b[0m in \u001b[0;36m_mean\u001b[0;34m(a, axis, dtype, out, keepdims)\u001b[0m\n\u001b[1;32m    152\u001b[0m     \u001b[0;31m# Cast bool, unsigned int, and int to float64 by default\u001b[0m\u001b[0;34m\u001b[0m\u001b[0;34m\u001b[0m\u001b[0;34m\u001b[0m\u001b[0m\n\u001b[1;32m    153\u001b[0m     \u001b[0;32mif\u001b[0m \u001b[0mdtype\u001b[0m \u001b[0;32mis\u001b[0m \u001b[0;32mNone\u001b[0m\u001b[0;34m:\u001b[0m\u001b[0;34m\u001b[0m\u001b[0;34m\u001b[0m\u001b[0m\n\u001b[0;32m--> 154\u001b[0;31m         \u001b[0;32mif\u001b[0m \u001b[0missubclass\u001b[0m\u001b[0;34m(\u001b[0m\u001b[0marr\u001b[0m\u001b[0;34m.\u001b[0m\u001b[0mdtype\u001b[0m\u001b[0;34m.\u001b[0m\u001b[0mtype\u001b[0m\u001b[0;34m,\u001b[0m \u001b[0;34m(\u001b[0m\u001b[0mnt\u001b[0m\u001b[0;34m.\u001b[0m\u001b[0minteger\u001b[0m\u001b[0;34m,\u001b[0m \u001b[0mnt\u001b[0m\u001b[0;34m.\u001b[0m\u001b[0mbool_\u001b[0m\u001b[0;34m)\u001b[0m\u001b[0;34m)\u001b[0m\u001b[0;34m:\u001b[0m\u001b[0;34m\u001b[0m\u001b[0;34m\u001b[0m\u001b[0m\n\u001b[0m\u001b[1;32m    155\u001b[0m             \u001b[0mdtype\u001b[0m \u001b[0;34m=\u001b[0m \u001b[0mmu\u001b[0m\u001b[0;34m.\u001b[0m\u001b[0mdtype\u001b[0m\u001b[0;34m(\u001b[0m\u001b[0;34m'f8'\u001b[0m\u001b[0;34m)\u001b[0m\u001b[0;34m\u001b[0m\u001b[0;34m\u001b[0m\u001b[0m\n\u001b[1;32m    156\u001b[0m         \u001b[0;32melif\u001b[0m \u001b[0missubclass\u001b[0m\u001b[0;34m(\u001b[0m\u001b[0marr\u001b[0m\u001b[0;34m.\u001b[0m\u001b[0mdtype\u001b[0m\u001b[0;34m.\u001b[0m\u001b[0mtype\u001b[0m\u001b[0;34m,\u001b[0m \u001b[0mnt\u001b[0m\u001b[0;34m.\u001b[0m\u001b[0mfloat16\u001b[0m\u001b[0;34m)\u001b[0m\u001b[0;34m:\u001b[0m\u001b[0;34m\u001b[0m\u001b[0;34m\u001b[0m\u001b[0m\n",
            "\u001b[0;31mKeyboardInterrupt\u001b[0m: "
          ]
        }
      ]
    },
    {
      "cell_type": "code",
      "metadata": {
        "id": "IzuzEizBZ2ZC"
      },
      "source": [
        "# K-Means clustering\n",
        "n_clusters = 5  # elbow method 등을 이용해서 K를 결정해보세요.\n",
        "kmeans = KMeans(n_clusters=n_clusters, init='k-means++', random_state=1207).fit(latent_vec)\n",
        "y_pred = kmeans.labels_"
      ],
      "execution_count": null,
      "outputs": []
    },
    {
      "cell_type": "markdown",
      "metadata": {
        "id": "nIRghUQOZ2ZC"
      },
      "source": [
        "# 제출 파일(csv) 생성"
      ]
    },
    {
      "cell_type": "code",
      "metadata": {
        "id": "gDQxW901Z2ZC"
      },
      "source": [
        "# 저장할 폴더 만들기\n",
        "SAVE_PATH = os.path.join(PATH, \"output\")\n",
        "if not os.path.exists(SAVE_PATH):\n",
        "  os.mkdir(SAVE_PATH)\n",
        "else:\n",
        "  pass"
      ],
      "execution_count": null,
      "outputs": []
    },
    {
      "cell_type": "code",
      "metadata": {
        "ExecuteTime": {
          "end_time": "2020-09-24T12:58:55.556369Z",
          "start_time": "2020-09-24T12:58:55.548658Z"
        },
        "id": "aYujxRXCZ2ZC"
      },
      "source": [
        "# 제출 파일 만들기\n",
        "team = \"crystals\"  # 반드시 자신이 속한 팀명을 적어주세요.\n",
        "suffix = 5  # 자신이 제출한 파일을 알아볼 수 있는 접미사를 적어주세요. 이전에 제출한 파일과 동일하면 안됩니다.\n",
        "\n",
        "# 이 밑은 수정하지 마세요.\n",
        "# timestamp = datetime.today().strftime(\"%Y%m%d%H%M%S\")\n",
        "sub = pd.DataFrame(y_pred, columns=[\"y_pred\"])\n",
        "sub.to_csv(os.path.join(SAVE_PATH, f\"./{team}_{suffix}.csv\"), index=False)"
      ],
      "execution_count": null,
      "outputs": []
    },
    {
      "cell_type": "markdown",
      "metadata": {
        "id": "yOCzjKfivH4b"
      },
      "source": [
        "# 제출\n",
        "1. output 폴더 안에 있는 제출할 csv을 다운받아 주세요.\n",
        "2. dcc2021.clustering@gmail.com로 csv파일을 첨부해서 보내주세요. (제목과 내용은 상관 없음)\n",
        "3. 1-2분 후에 [리더보드](https://github.com/High-East/DCC-12-Leader-Board)에서 확인해주세요.\n"
      ]
    },
    {
      "cell_type": "markdown",
      "metadata": {
        "id": "TMes1k2HwQJx"
      },
      "source": [
        "# 재공지\n",
        "- 총 제출 횟수는 ***20번*** 입니다.\n",
        "- 이메일을 보낸 시간을 기준으로, 대회 종료 시각인 ***PM 4:20*** 까지 제출하신 것까지만 인정합니다.\n",
        "- 평가 지표는 ARI를 사용하고 있습니다. [-1, 1] 사이의 값을 가지며, 1에 가까울수록 높은 성능입니다.\n",
        "- 발표 자료는 추후에 공지되는 이메일로 보내주세요."
      ]
    }
  ]
}